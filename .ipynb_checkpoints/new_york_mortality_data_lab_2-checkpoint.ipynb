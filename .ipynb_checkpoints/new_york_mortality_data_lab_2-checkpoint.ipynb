{
 "cells": [
  {
   "cell_type": "code",
   "execution_count": 1,
   "id": "e751dea8-fb51-49cf-9522-17152f274ce4",
   "metadata": {},
   "outputs": [],
   "source": [
    "import pandas as pd\n",
    "import seaborn as sns\n",
    "import matplotlib.pyplot as plt\n",
    "%matplotlib inline\n",
    "import re\n",
    "import numpy as np\n",
    "import math"
   ]
  },
  {
   "cell_type": "markdown",
   "id": "80069823-fc66-4e98-b4aa-1afd636c92a5",
   "metadata": {},
   "source": [
    "# Data Dictionary\n",
    "\n",
    "## Source\n",
    "\n",
    "The data was automatically gathered from death certificates submitted in New York City. The data was released by the New York Department of Health and Mental Hygiene through the New York Open Data platform.\n",
    "\n",
    "## Columns\n",
    "\n",
    "### Year\n",
    "\n",
    "The year in which the deaths took place. Datatype is int64. All datapoints have an associated year. (2007-2014, 2019)\n",
    "\n",
    "### Leading Cause\n",
    "\n",
    "The leading cause of death indicated on the death certificate. Also includes the mortality code corresponding to the cause of death. Datatype is string. List of causes of death at the end of the data dictionary.\n",
    "\n",
    "### Sex\n",
    "\n",
    "The sex indicated on the death certificate. Datatype is string. The two options are 'M', indicateing male and 'F', indicateing female. In the original data there is also 'Male' for male and 'Female' for female, but those values will be converted to 'M' and 'F' for consistency.\n",
    "\n",
    "### Race/Ethnicity\n",
    "\n",
    "The race/ethnicity recorded on the death certificate. Datatype is string. There are eight options in the original data. However, those will be consolidated to six options because Non-Hispanic White and Non-Hispanic Black are the same as White Non-Hispanic and Black Non-Hispanic. The differnces that occur in the race/ethnicity column and the sex column appear to be the result of a difference in the way data is entered in 2019. The final options are Other Race/ Ethnicity, Hispanic, Not Stated/Unknown, Non-Hispanic White, Asian and Pacific Islander, and Non-Hispanic Black.\n",
    "\n",
    "### Deaths\n",
    "\n",
    "The number of death certificates issued for the given leading cause of death within the given sex and racial/ethnic category in the given year. Datatype is int64. (1 - 7050)\n",
    "\n",
    "### Death Rate\n",
    "\n",
    "The death rate for the given in the given year. The method used to calculate death rate is to divide number of deaths by population within the category, then mutiply by 100000. It was originally unclear as to whether the the population used in this calculation was the population of the given ethnic group and This gives the number of deaths per 100000 people. This equation was not supplied with the data but can be found in [this pdf](https://www1.nyc.gov/assets/doh/downloads/pdf/vs/2019sum.pdf) released by the New York Department of Health and Mental Hygiene covering the same data as we are handling. Datatype is float64. (2.4 - 491.4)\n",
    "\n",
    "### Age Adjusted Death Rate\n",
    "\n",
    "The age adjusted death rate for the given leading cause in the given year. Age adjusted death rate is calculated by adjusting the death rates by the population distribution across age groups. According to the pdf given in the above, the age groups used were 0-24, 25-44, 45-64, 65-84, 85+ with the standard us population distribution. This was done to allow comparisons to be made to different geographical locations. I do not have the original age group table used. Datatype is float64. (2.5 - 414.594473)\n",
    "\n",
    "## Causes of Death\n",
    "\n",
    "<details>\n",
    "<summary>Causes of Death</summary>\n",
    "<br>\n",
    "Nephritis, Nephrotic Syndrome and Nephrisis (N00-N07, N17-N19, N25-N27)  \n",
    "    \n",
    "Influenza (Flu) and Pneumonia (J09-J18)  \n",
    "    \n",
    "Assault (Homicide: Y87.1, X85-Y09)  \n",
    "    \n",
    "Essential Hypertension and Renal Diseases (I10, I12)  \n",
    "    \n",
    "Cerebrovascular Disease (Stroke: I60-I69)  \n",
    "    \n",
    "All Other Causes  \n",
    "    \n",
    "Mental and Behavioral Disorders due to Accidental Poisoning and Other Psychoactive Substance Use (F11-F16, F18-F19, X40-X42, X44)  \n",
    "    \n",
    "Accidents Except Drug Posioning (V01-X39, X43, X45-X59, Y85-Y86)  \n",
    "    \n",
    "Intentional Self-Harm (Suicide: X60-X84, Y87.0)  \n",
    "    \n",
    "Chronic Lower Respiratory Diseases (J40-J47)  \n",
    "    \n",
    "Diabetes Mellitus (E10-E14)  \n",
    "    \n",
    "Diseases of Heart (I00-I09, I11, I13, I20-I51)  \n",
    "    \n",
    "Alzheimer's Disease (G30)  \n",
    "    \n",
    "Certain Conditions originating in the Perinatal Period (P00-P96)  \n",
    "    \n",
    "Malignant Neoplasms (Cancer: C00-C97)  \n",
    "    \n",
    "Viral Hepatitis (B15-B19)  \n",
    "    \n",
    "Human Immunodeficiency Virus Disease (HIV: B20-B24)  \n",
    "    \n",
    "Septicemia (A40-A41)  \n",
    "    \n",
    "Chronic Liver Disease and Cirrhosis (K70, K73)  \n",
    "    \n",
    "Congenital Malformations, Deformations, and Chromosomal Abnormalities (Q00-Q99)  \n",
    "    \n",
    "Atherosclerosis (I70)  \n",
    "    \n",
    "Mental and Behavioral Disorders due to Use of Alcohol (F10)  \n",
    "    \n",
    "Tuberculosis (A16-A19)  \n",
    "    \n",
    "Aortic Aneurysm and Dissection (I71)  \n",
    "    \n",
    "Insitu or Benign / Uncertain Neoplasms (D00-D48)  \n",
    "    \n",
    "Parkinson's Disease (G20)  \n",
    "    \n",
    "Accidents Except Drug Poisoning (V01-X39, X43, X45-X59, Y85-Y86)  \n",
    "    \n",
    "Chronic Liver Disease and Cirrhosis (K70, K73-K74)  \n",
    "    \n",
    "Intentional Self-Harm (Suicide: U03, X60-X84, Y87.0)  \n",
    "    \n",
    "Assault (Homicide: U01-U02, Y87.1, X85-Y09)  \n",
    "    \n",
    "Complications of Medical and Surgical Care (Y40-Y84, Y88)  \n",
    "    \n",
    "Cholelithiasis and Disorders of Gallbladder (K80-K82)  \n",
    "    \n",
    "Anemias (D50-D64)  \n",
    "    \n",
    "Peptic Ulcer (K25-K28)  \n",
    "</details>"
   ]
  },
  {
   "cell_type": "code",
   "execution_count": 2,
   "id": "671d9418-12c4-4195-95be-d78d66c86ee5",
   "metadata": {},
   "outputs": [],
   "source": [
    "df = pd.read_csv(\"./New_York_City_Leading_Causes_of_Death.csv\")"
   ]
  },
  {
   "cell_type": "code",
   "execution_count": 3,
   "id": "73a7d475-7fa2-426c-8c10-59793e367683",
   "metadata": {},
   "outputs": [
    {
     "data": {
      "text/plain": [
       "(1272, 7)"
      ]
     },
     "execution_count": 3,
     "metadata": {},
     "output_type": "execute_result"
    }
   ],
   "source": [
    "df.shape"
   ]
  },
  {
   "cell_type": "markdown",
   "id": "5ced14f5-165c-4063-a349-cd3ea99e9e31",
   "metadata": {},
   "source": [
    "Our data has 7 columns and 1272 rows."
   ]
  },
  {
   "cell_type": "code",
   "execution_count": 4,
   "id": "eb979eb7-e98e-4b11-8369-a6bc86052189",
   "metadata": {},
   "outputs": [],
   "source": [
    "df.columns = [x.lower().replace(\" \", \"_\") for x in df.columns]"
   ]
  },
  {
   "cell_type": "code",
   "execution_count": 5,
   "id": "2fea29ec-b320-46a1-9656-fe8a0150d7ae",
   "metadata": {},
   "outputs": [
    {
     "data": {
      "text/plain": [
       "Index(['year', 'leading_cause', 'sex', 'race_ethnicity', 'deaths',\n",
       "       'death_rate', 'age_adjusted_death_rate'],\n",
       "      dtype='object')"
      ]
     },
     "execution_count": 5,
     "metadata": {},
     "output_type": "execute_result"
    }
   ],
   "source": [
    "df.columns"
   ]
  },
  {
   "cell_type": "markdown",
   "id": "bc4a8997-0346-47de-a947-1210fc7ee8d5",
   "metadata": {},
   "source": [
    "The columns are converted to lowercase and spaces are replaced with underscores for readability and ease of use."
   ]
  },
  {
   "cell_type": "code",
   "execution_count": 6,
   "id": "9b3e3b52-60e1-4c62-8cfc-0c681bef3e06",
   "metadata": {},
   "outputs": [
    {
     "data": {
      "text/plain": [
       "array(['F', 'M', 'Male', 'Female'], dtype=object)"
      ]
     },
     "execution_count": 6,
     "metadata": {},
     "output_type": "execute_result"
    }
   ],
   "source": [
    "df['sex'].unique()"
   ]
  },
  {
   "cell_type": "code",
   "execution_count": 7,
   "id": "c398a366-dbd1-43e5-8d48-1d3ba31f7cad",
   "metadata": {},
   "outputs": [],
   "source": [
    "df['sex'] = ['F' if (x == 'F' or x == 'Female') else 'M' for x in df['sex']]"
   ]
  },
  {
   "cell_type": "code",
   "execution_count": 8,
   "id": "e0c0808d-a26e-445a-849e-73ad83d71254",
   "metadata": {},
   "outputs": [
    {
     "data": {
      "text/plain": [
       "array(['F', 'M'], dtype=object)"
      ]
     },
     "execution_count": 8,
     "metadata": {},
     "output_type": "execute_result"
    }
   ],
   "source": [
    "df['sex'].unique()"
   ]
  },
  {
   "cell_type": "code",
   "execution_count": 9,
   "id": "a479febe-625c-496e-a87f-8a2f4a1d124e",
   "metadata": {},
   "outputs": [],
   "source": [
    "df['deaths'] = [np.nan  if x == '.' else x for x in df['deaths']]"
   ]
  },
  {
   "cell_type": "code",
   "execution_count": 10,
   "id": "2f98391c-e04a-40a8-9735-32f3a4ace781",
   "metadata": {},
   "outputs": [
    {
     "data": {
      "text/plain": [
       "NaN     138\n",
       "5        35\n",
       "8        24\n",
       "6        22\n",
       "1        21\n",
       "       ... \n",
       "621       1\n",
       "563       1\n",
       "409       1\n",
       "4507      1\n",
       "1578      1\n",
       "Name: deaths, Length: 505, dtype: int64"
      ]
     },
     "execution_count": 10,
     "metadata": {},
     "output_type": "execute_result"
    }
   ],
   "source": [
    "df['deaths'].value_counts(dropna=False)"
   ]
  },
  {
   "cell_type": "code",
   "execution_count": 11,
   "id": "1901d2ba-e32a-4c99-ae93-5c727eef69bf",
   "metadata": {},
   "outputs": [],
   "source": [
    "df['death_rate'] = [np.nan  if x == '.' else x for x in df['death_rate']]"
   ]
  },
  {
   "cell_type": "code",
   "execution_count": 12,
   "id": "a0acf5bd-c5ba-485b-8663-4a93a0656b8b",
   "metadata": {},
   "outputs": [
    {
     "data": {
      "text/plain": [
       "NaN           453\n",
       "17.3            7\n",
       "13              7\n",
       "11.4            6\n",
       "18              6\n",
       "             ... \n",
       "10.3            1\n",
       "17.1            1\n",
       "14.3            1\n",
       "88.5            1\n",
       "70.7534133      1\n",
       "Name: death_rate, Length: 546, dtype: int64"
      ]
     },
     "execution_count": 12,
     "metadata": {},
     "output_type": "execute_result"
    }
   ],
   "source": [
    "df['death_rate'].value_counts(dropna=False)"
   ]
  },
  {
   "cell_type": "code",
   "execution_count": 13,
   "id": "e908fc9a-1ba2-4298-900a-438f3802a1c7",
   "metadata": {},
   "outputs": [],
   "source": [
    "df['age_adjusted_death_rate'] = [np.nan  if x == '.' else x for x in df['age_adjusted_death_rate']]"
   ]
  },
  {
   "cell_type": "code",
   "execution_count": 14,
   "id": "4f38da16-0e6a-421c-b420-efcb432323bc",
   "metadata": {},
   "outputs": [
    {
     "data": {
      "text/plain": [
       "NaN           453\n",
       "17.9            6\n",
       "6.3             6\n",
       "21.4            6\n",
       "16.8            5\n",
       "             ... \n",
       "243.6           1\n",
       "26.9            1\n",
       "78.6            1\n",
       "124.5           1\n",
       "88.7919256      1\n",
       "Name: age_adjusted_death_rate, Length: 538, dtype: int64"
      ]
     },
     "execution_count": 14,
     "metadata": {},
     "output_type": "execute_result"
    }
   ],
   "source": [
    "df['age_adjusted_death_rate'].value_counts(dropna=False)"
   ]
  },
  {
   "cell_type": "markdown",
   "id": "f098192b-9638-4578-be8a-04efe4051b8c",
   "metadata": {},
   "source": [
    "Converted all '.' placeholder characters to np.NaN for consistency."
   ]
  },
  {
   "cell_type": "code",
   "execution_count": 15,
   "id": "27f12b24-a728-4791-b8b9-e0ee33507145",
   "metadata": {},
   "outputs": [
    {
     "data": {
      "text/plain": [
       "array(['Other Race/ Ethnicity', 'Hispanic', 'Not Stated/Unknown',\n",
       "       'White Non-Hispanic', 'Asian and Pacific Islander',\n",
       "       'Black Non-Hispanic', 'Non-Hispanic White', 'Non-Hispanic Black'],\n",
       "      dtype=object)"
      ]
     },
     "execution_count": 15,
     "metadata": {},
     "output_type": "execute_result"
    }
   ],
   "source": [
    "df['race_ethnicity'].unique()"
   ]
  },
  {
   "cell_type": "code",
   "execution_count": 16,
   "id": "1e3b0877-ad36-4ec5-bb86-da9c64dad0c3",
   "metadata": {},
   "outputs": [],
   "source": [
    "relist = df['race_ethnicity'].copy()\n",
    "\n",
    "for i in range(len(relist)):\n",
    "    item = relist[i]\n",
    "    if item == 'White Non-Hispanic':\n",
    "        relist[i] = 'Non-Hispanic White'\n",
    "    elif item == 'Black Non-Hispanic':\n",
    "        relist[i] = 'Non-Hispanic Black'\n",
    "        \n",
    "df['race_ethnicity'] = relist"
   ]
  },
  {
   "cell_type": "code",
   "execution_count": 17,
   "id": "fe11887e-722d-4b26-ac02-043b1648d60c",
   "metadata": {},
   "outputs": [
    {
     "data": {
      "text/plain": [
       "array(['Other Race/ Ethnicity', 'Hispanic', 'Not Stated/Unknown',\n",
       "       'Non-Hispanic White', 'Asian and Pacific Islander',\n",
       "       'Non-Hispanic Black'], dtype=object)"
      ]
     },
     "execution_count": 17,
     "metadata": {},
     "output_type": "execute_result"
    }
   ],
   "source": [
    "df['race_ethnicity'].unique()"
   ]
  },
  {
   "cell_type": "markdown",
   "id": "7ec5031f-c700-4d2c-9047-d6cf91d3e7cd",
   "metadata": {},
   "source": [
    "Female and Male changed to F and M in sex column for ease in processing."
   ]
  },
  {
   "cell_type": "code",
   "execution_count": 18,
   "id": "4e3b1fd0-91b3-42c5-86a1-c509d02c431a",
   "metadata": {},
   "outputs": [],
   "source": [
    "duplicates = df[df.duplicated()]"
   ]
  },
  {
   "cell_type": "code",
   "execution_count": 19,
   "id": "8251d9b1-e390-4981-85e9-affe01f4e858",
   "metadata": {},
   "outputs": [
    {
     "data": {
      "text/html": [
       "<div>\n",
       "<style scoped>\n",
       "    .dataframe tbody tr th:only-of-type {\n",
       "        vertical-align: middle;\n",
       "    }\n",
       "\n",
       "    .dataframe tbody tr th {\n",
       "        vertical-align: top;\n",
       "    }\n",
       "\n",
       "    .dataframe thead th {\n",
       "        text-align: right;\n",
       "    }\n",
       "</style>\n",
       "<table border=\"1\" class=\"dataframe\">\n",
       "  <thead>\n",
       "    <tr style=\"text-align: right;\">\n",
       "      <th></th>\n",
       "      <th>year</th>\n",
       "      <th>leading_cause</th>\n",
       "      <th>sex</th>\n",
       "      <th>race_ethnicity</th>\n",
       "      <th>deaths</th>\n",
       "      <th>death_rate</th>\n",
       "      <th>age_adjusted_death_rate</th>\n",
       "    </tr>\n",
       "  </thead>\n",
       "  <tbody>\n",
       "    <tr>\n",
       "      <th>0</th>\n",
       "      <td>2009</td>\n",
       "      <td>Nephritis, Nephrotic Syndrome and Nephrisis (N...</td>\n",
       "      <td>F</td>\n",
       "      <td>Other Race/ Ethnicity</td>\n",
       "      <td>NaN</td>\n",
       "      <td>NaN</td>\n",
       "      <td>NaN</td>\n",
       "    </tr>\n",
       "    <tr>\n",
       "      <th>1</th>\n",
       "      <td>2013</td>\n",
       "      <td>Influenza (Flu) and Pneumonia (J09-J18)</td>\n",
       "      <td>F</td>\n",
       "      <td>Hispanic</td>\n",
       "      <td>204</td>\n",
       "      <td>16.3</td>\n",
       "      <td>18.5</td>\n",
       "    </tr>\n",
       "    <tr>\n",
       "      <th>2</th>\n",
       "      <td>2012</td>\n",
       "      <td>Assault (Homicide: Y87.1, X85-Y09)</td>\n",
       "      <td>M</td>\n",
       "      <td>Other Race/ Ethnicity</td>\n",
       "      <td>NaN</td>\n",
       "      <td>NaN</td>\n",
       "      <td>NaN</td>\n",
       "    </tr>\n",
       "    <tr>\n",
       "      <th>3</th>\n",
       "      <td>2007</td>\n",
       "      <td>Essential Hypertension and Renal Diseases (I10...</td>\n",
       "      <td>F</td>\n",
       "      <td>Not Stated/Unknown</td>\n",
       "      <td>5</td>\n",
       "      <td>NaN</td>\n",
       "      <td>NaN</td>\n",
       "    </tr>\n",
       "    <tr>\n",
       "      <th>4</th>\n",
       "      <td>2014</td>\n",
       "      <td>Cerebrovascular Disease (Stroke: I60-I69)</td>\n",
       "      <td>F</td>\n",
       "      <td>Non-Hispanic White</td>\n",
       "      <td>418</td>\n",
       "      <td>29.5</td>\n",
       "      <td>15.6</td>\n",
       "    </tr>\n",
       "    <tr>\n",
       "      <th>...</th>\n",
       "      <td>...</td>\n",
       "      <td>...</td>\n",
       "      <td>...</td>\n",
       "      <td>...</td>\n",
       "      <td>...</td>\n",
       "      <td>...</td>\n",
       "      <td>...</td>\n",
       "    </tr>\n",
       "    <tr>\n",
       "      <th>1267</th>\n",
       "      <td>2019</td>\n",
       "      <td>Influenza (Flu) and Pneumonia (J09-J18)</td>\n",
       "      <td>F</td>\n",
       "      <td>Not Stated/Unknown</td>\n",
       "      <td>8</td>\n",
       "      <td>8.844176662</td>\n",
       "      <td>12.14778648</td>\n",
       "    </tr>\n",
       "    <tr>\n",
       "      <th>1268</th>\n",
       "      <td>2019</td>\n",
       "      <td>Certain Conditions originating in the Perinata...</td>\n",
       "      <td>F</td>\n",
       "      <td>Not Stated/Unknown</td>\n",
       "      <td>7</td>\n",
       "      <td>7.73865458</td>\n",
       "      <td>6.390793995</td>\n",
       "    </tr>\n",
       "    <tr>\n",
       "      <th>1269</th>\n",
       "      <td>2019</td>\n",
       "      <td>Mental and Behavioral Disorders due to Acciden...</td>\n",
       "      <td>F</td>\n",
       "      <td>Not Stated/Unknown</td>\n",
       "      <td>5</td>\n",
       "      <td>5.527610414</td>\n",
       "      <td>6.724040882</td>\n",
       "    </tr>\n",
       "    <tr>\n",
       "      <th>1270</th>\n",
       "      <td>2019</td>\n",
       "      <td>Intentional Self-Harm (Suicide: U03, X60-X84, ...</td>\n",
       "      <td>F</td>\n",
       "      <td>Not Stated/Unknown</td>\n",
       "      <td>5</td>\n",
       "      <td>5.527610414</td>\n",
       "      <td>6.979219825</td>\n",
       "    </tr>\n",
       "    <tr>\n",
       "      <th>1271</th>\n",
       "      <td>2019</td>\n",
       "      <td>All Other Causes</td>\n",
       "      <td>F</td>\n",
       "      <td>Not Stated/Unknown</td>\n",
       "      <td>64</td>\n",
       "      <td>70.7534133</td>\n",
       "      <td>88.7919256</td>\n",
       "    </tr>\n",
       "  </tbody>\n",
       "</table>\n",
       "<p>1270 rows × 7 columns</p>\n",
       "</div>"
      ],
      "text/plain": [
       "      year                                      leading_cause sex  \\\n",
       "0     2009  Nephritis, Nephrotic Syndrome and Nephrisis (N...   F   \n",
       "1     2013            Influenza (Flu) and Pneumonia (J09-J18)   F   \n",
       "2     2012                 Assault (Homicide: Y87.1, X85-Y09)   M   \n",
       "3     2007  Essential Hypertension and Renal Diseases (I10...   F   \n",
       "4     2014          Cerebrovascular Disease (Stroke: I60-I69)   F   \n",
       "...    ...                                                ...  ..   \n",
       "1267  2019            Influenza (Flu) and Pneumonia (J09-J18)   F   \n",
       "1268  2019  Certain Conditions originating in the Perinata...   F   \n",
       "1269  2019  Mental and Behavioral Disorders due to Acciden...   F   \n",
       "1270  2019  Intentional Self-Harm (Suicide: U03, X60-X84, ...   F   \n",
       "1271  2019                                   All Other Causes   F   \n",
       "\n",
       "             race_ethnicity deaths   death_rate age_adjusted_death_rate  \n",
       "0     Other Race/ Ethnicity    NaN          NaN                     NaN  \n",
       "1                  Hispanic    204         16.3                    18.5  \n",
       "2     Other Race/ Ethnicity    NaN          NaN                     NaN  \n",
       "3        Not Stated/Unknown      5          NaN                     NaN  \n",
       "4        Non-Hispanic White    418         29.5                    15.6  \n",
       "...                     ...    ...          ...                     ...  \n",
       "1267     Not Stated/Unknown      8  8.844176662             12.14778648  \n",
       "1268     Not Stated/Unknown      7   7.73865458             6.390793995  \n",
       "1269     Not Stated/Unknown      5  5.527610414             6.724040882  \n",
       "1270     Not Stated/Unknown      5  5.527610414             6.979219825  \n",
       "1271     Not Stated/Unknown     64   70.7534133              88.7919256  \n",
       "\n",
       "[1270 rows x 7 columns]"
      ]
     },
     "execution_count": 19,
     "metadata": {},
     "output_type": "execute_result"
    }
   ],
   "source": [
    "df.drop_duplicates()"
   ]
  },
  {
   "cell_type": "markdown",
   "id": "cd7ecd4f-3ead-416d-904d-3f468fbdf33b",
   "metadata": {},
   "source": [
    "Two duplicate rows are dropped from the dataframe. The data was compiled by an automated system, so duplicates may have resulted from errors in the system or the input data."
   ]
  },
  {
   "cell_type": "code",
   "execution_count": 20,
   "id": "7b9c7d51-b895-41bc-9eda-55582feef109",
   "metadata": {},
   "outputs": [
    {
     "data": {
      "text/plain": [
       "9"
      ]
     },
     "execution_count": 20,
     "metadata": {},
     "output_type": "execute_result"
    }
   ],
   "source": [
    "df['year'].nunique()"
   ]
  },
  {
   "cell_type": "markdown",
   "id": "b3d5c84c-bb57-4e75-90b0-830359153cad",
   "metadata": {},
   "source": [
    "Data was collected over a nine year period."
   ]
  },
  {
   "cell_type": "code",
   "execution_count": 21,
   "id": "aef6f882-9be7-4083-bb2e-af34c8eab79f",
   "metadata": {},
   "outputs": [
    {
     "data": {
      "text/plain": [
       "year                        int64\n",
       "leading_cause              object\n",
       "sex                        object\n",
       "race_ethnicity             object\n",
       "deaths                     object\n",
       "death_rate                 object\n",
       "age_adjusted_death_rate    object\n",
       "dtype: object"
      ]
     },
     "execution_count": 21,
     "metadata": {},
     "output_type": "execute_result"
    }
   ],
   "source": [
    "df.dtypes"
   ]
  },
  {
   "cell_type": "markdown",
   "id": "46aab0cb-a8ec-44f1-901e-50e250a00875",
   "metadata": {},
   "source": [
    "The columns deaths, death_rate, and age_adjusted_death_rate should all be numerical datatypes, but there is a non-numerical datapoint representing rows where there is no data."
   ]
  },
  {
   "cell_type": "code",
   "execution_count": 22,
   "id": "222db077-bfa1-45d2-9406-eaa1bc4a2e24",
   "metadata": {},
   "outputs": [
    {
     "data": {
      "text/plain": [
       "array(['Nephritis, Nephrotic Syndrome and Nephrisis (N00-N07, N17-N19, N25-N27)',\n",
       "       'Influenza (Flu) and Pneumonia (J09-J18)',\n",
       "       'Assault (Homicide: Y87.1, X85-Y09)',\n",
       "       'Essential Hypertension and Renal Diseases (I10, I12)',\n",
       "       'Cerebrovascular Disease (Stroke: I60-I69)', 'All Other Causes',\n",
       "       'Mental and Behavioral Disorders due to Accidental Poisoning and Other Psychoactive Substance Use (F11-F16, F18-F19, X40-X42, X44)',\n",
       "       'Accidents Except Drug Posioning (V01-X39, X43, X45-X59, Y85-Y86)',\n",
       "       'Intentional Self-Harm (Suicide: X60-X84, Y87.0)',\n",
       "       'Chronic Lower Respiratory Diseases (J40-J47)',\n",
       "       'Diabetes Mellitus (E10-E14)',\n",
       "       'Diseases of Heart (I00-I09, I11, I13, I20-I51)',\n",
       "       \"Alzheimer's Disease (G30)\",\n",
       "       'Certain Conditions originating in the Perinatal Period (P00-P96)',\n",
       "       'Malignant Neoplasms (Cancer: C00-C97)',\n",
       "       'Viral Hepatitis (B15-B19)',\n",
       "       'Human Immunodeficiency Virus Disease (HIV: B20-B24)',\n",
       "       'Septicemia (A40-A41)',\n",
       "       'Chronic Liver Disease and Cirrhosis (K70, K73)',\n",
       "       'Congenital Malformations, Deformations, and Chromosomal Abnormalities (Q00-Q99)',\n",
       "       'Atherosclerosis (I70)',\n",
       "       'Mental and Behavioral Disorders due to Use of Alcohol (F10)',\n",
       "       'Tuberculosis (A16-A19)', 'Aortic Aneurysm and Dissection (I71)',\n",
       "       'Insitu or Benign / Uncertain Neoplasms (D00-D48)',\n",
       "       \"Parkinson's Disease (G20)\",\n",
       "       'Accidents Except Drug Poisoning (V01-X39, X43, X45-X59, Y85-Y86)',\n",
       "       'Chronic Liver Disease and Cirrhosis (K70, K73-K74)',\n",
       "       'Intentional Self-Harm (Suicide: U03, X60-X84, Y87.0)',\n",
       "       'Assault (Homicide: U01-U02, Y87.1, X85-Y09)',\n",
       "       'Complications of Medical and Surgical Care (Y40-Y84, Y88)',\n",
       "       'Cholelithiasis and Disorders of Gallbladder (K80-K82)',\n",
       "       'Anemias (D50-D64)', 'Peptic Ulcer (K25-K28)'], dtype=object)"
      ]
     },
     "execution_count": 22,
     "metadata": {},
     "output_type": "execute_result"
    }
   ],
   "source": [
    "df['leading_cause'].unique()"
   ]
  },
  {
   "cell_type": "code",
   "execution_count": 23,
   "id": "e66b7fea-3614-4bb8-9780-0d9040ff1c4e",
   "metadata": {},
   "outputs": [],
   "source": [
    "df['leading_cause'] = [re.sub(\"[\\(\\[].*?[\\)\\]]\", \"\", x).strip() for x in df['leading_cause']]\n",
    "# Used regex from https://stackoverflow.com/questions/14596884/remove-text-between-and to remove characters between parenthesis."
   ]
  },
  {
   "cell_type": "code",
   "execution_count": 24,
   "id": "24c78895-59c9-491d-aa8c-e152e66a7c40",
   "metadata": {},
   "outputs": [
    {
     "data": {
      "text/plain": [
       "array(['Nephritis, Nephrotic Syndrome and Nephrisis',\n",
       "       'Influenza  and Pneumonia', 'Assault',\n",
       "       'Essential Hypertension and Renal Diseases',\n",
       "       'Cerebrovascular Disease', 'All Other Causes',\n",
       "       'Mental and Behavioral Disorders due to Accidental Poisoning and Other Psychoactive Substance Use',\n",
       "       'Accidents Except Drug Posioning', 'Intentional Self-Harm',\n",
       "       'Chronic Lower Respiratory Diseases', 'Diabetes Mellitus',\n",
       "       'Diseases of Heart', \"Alzheimer's Disease\",\n",
       "       'Certain Conditions originating in the Perinatal Period',\n",
       "       'Malignant Neoplasms', 'Viral Hepatitis',\n",
       "       'Human Immunodeficiency Virus Disease', 'Septicemia',\n",
       "       'Chronic Liver Disease and Cirrhosis',\n",
       "       'Congenital Malformations, Deformations, and Chromosomal Abnormalities',\n",
       "       'Atherosclerosis',\n",
       "       'Mental and Behavioral Disorders due to Use of Alcohol',\n",
       "       'Tuberculosis', 'Aortic Aneurysm and Dissection',\n",
       "       'Insitu or Benign / Uncertain Neoplasms', \"Parkinson's Disease\",\n",
       "       'Accidents Except Drug Poisoning',\n",
       "       'Complications of Medical and Surgical Care',\n",
       "       'Cholelithiasis and Disorders of Gallbladder', 'Anemias',\n",
       "       'Peptic Ulcer'], dtype=object)"
      ]
     },
     "execution_count": 24,
     "metadata": {},
     "output_type": "execute_result"
    }
   ],
   "source": [
    "df['leading_cause'].unique()"
   ]
  },
  {
   "cell_type": "markdown",
   "id": "a4746bf2-a983-48b9-b74c-bae37d60167a",
   "metadata": {},
   "source": [
    "Removed extra codes that were in parenthesis after the causes of death because the were not useful to us and decreased readibility."
   ]
  },
  {
   "cell_type": "code",
   "execution_count": 25,
   "id": "7245ffe4-1b3a-4521-90e9-b697210bd0b3",
   "metadata": {},
   "outputs": [
    {
     "data": {
      "text/plain": [
       "NaN     138\n",
       "5        35\n",
       "8        24\n",
       "6        22\n",
       "1        21\n",
       "       ... \n",
       "621       1\n",
       "563       1\n",
       "409       1\n",
       "4507      1\n",
       "1578      1\n",
       "Name: deaths, Length: 505, dtype: int64"
      ]
     },
     "execution_count": 25,
     "metadata": {},
     "output_type": "execute_result"
    }
   ],
   "source": [
    "df['deaths'].value_counts(dropna=False)"
   ]
  },
  {
   "cell_type": "code",
   "execution_count": 26,
   "id": "f72f325e-6982-4fc9-b9db-6256f5eb2328",
   "metadata": {},
   "outputs": [
    {
     "data": {
      "text/plain": [
       "NaN           453\n",
       "17.3            7\n",
       "13              7\n",
       "11.4            6\n",
       "18              6\n",
       "             ... \n",
       "10.3            1\n",
       "17.1            1\n",
       "14.3            1\n",
       "88.5            1\n",
       "70.7534133      1\n",
       "Name: death_rate, Length: 546, dtype: int64"
      ]
     },
     "execution_count": 26,
     "metadata": {},
     "output_type": "execute_result"
    }
   ],
   "source": [
    "df['death_rate'].value_counts(dropna=False)"
   ]
  },
  {
   "cell_type": "code",
   "execution_count": 27,
   "id": "1fd98060-0053-447e-bdbd-d7c36776fcb6",
   "metadata": {},
   "outputs": [
    {
     "data": {
      "text/plain": [
       "NaN           453\n",
       "17.9            6\n",
       "6.3             6\n",
       "21.4            6\n",
       "16.8            5\n",
       "             ... \n",
       "243.6           1\n",
       "26.9            1\n",
       "78.6            1\n",
       "124.5           1\n",
       "88.7919256      1\n",
       "Name: age_adjusted_death_rate, Length: 538, dtype: int64"
      ]
     },
     "execution_count": 27,
     "metadata": {},
     "output_type": "execute_result"
    }
   ],
   "source": [
    "df['age_adjusted_death_rate'].value_counts(dropna=False)"
   ]
  },
  {
   "cell_type": "code",
   "execution_count": 28,
   "id": "5cfc9518-e4a1-4386-9028-f2c6c2408fb1",
   "metadata": {},
   "outputs": [
    {
     "data": {
      "text/plain": [
       "Other Race/ Ethnicity         253\n",
       "Not Stated/Unknown            223\n",
       "Non-Hispanic Black            200\n",
       "Hispanic                      199\n",
       "Asian and Pacific Islander    199\n",
       "Non-Hispanic White            198\n",
       "Name: race_ethnicity, dtype: int64"
      ]
     },
     "execution_count": 28,
     "metadata": {},
     "output_type": "execute_result"
    }
   ],
   "source": [
    "df['race_ethnicity'].value_counts()"
   ]
  },
  {
   "cell_type": "code",
   "execution_count": 29,
   "id": "ba45c66c-80c4-43f6-8616-1fa6362b63e3",
   "metadata": {},
   "outputs": [],
   "source": [
    "missingdf = df[df['age_adjusted_death_rate'].isna()].copy()"
   ]
  },
  {
   "cell_type": "code",
   "execution_count": 30,
   "id": "2eab1552-42f2-4488-bb84-cec524bcb9dd",
   "metadata": {},
   "outputs": [
    {
     "data": {
      "text/html": [
       "<div>\n",
       "<style scoped>\n",
       "    .dataframe tbody tr th:only-of-type {\n",
       "        vertical-align: middle;\n",
       "    }\n",
       "\n",
       "    .dataframe tbody tr th {\n",
       "        vertical-align: top;\n",
       "    }\n",
       "\n",
       "    .dataframe thead th {\n",
       "        text-align: right;\n",
       "    }\n",
       "</style>\n",
       "<table border=\"1\" class=\"dataframe\">\n",
       "  <thead>\n",
       "    <tr style=\"text-align: right;\">\n",
       "      <th></th>\n",
       "      <th>year</th>\n",
       "      <th>leading_cause</th>\n",
       "      <th>sex</th>\n",
       "      <th>race_ethnicity</th>\n",
       "      <th>deaths</th>\n",
       "      <th>death_rate</th>\n",
       "      <th>age_adjusted_death_rate</th>\n",
       "    </tr>\n",
       "  </thead>\n",
       "  <tbody>\n",
       "    <tr>\n",
       "      <th>0</th>\n",
       "      <td>2009</td>\n",
       "      <td>Nephritis, Nephrotic Syndrome and Nephrisis</td>\n",
       "      <td>F</td>\n",
       "      <td>Other Race/ Ethnicity</td>\n",
       "      <td>NaN</td>\n",
       "      <td>NaN</td>\n",
       "      <td>NaN</td>\n",
       "    </tr>\n",
       "    <tr>\n",
       "      <th>2</th>\n",
       "      <td>2012</td>\n",
       "      <td>Assault</td>\n",
       "      <td>M</td>\n",
       "      <td>Other Race/ Ethnicity</td>\n",
       "      <td>NaN</td>\n",
       "      <td>NaN</td>\n",
       "      <td>NaN</td>\n",
       "    </tr>\n",
       "    <tr>\n",
       "      <th>3</th>\n",
       "      <td>2007</td>\n",
       "      <td>Essential Hypertension and Renal Diseases</td>\n",
       "      <td>F</td>\n",
       "      <td>Not Stated/Unknown</td>\n",
       "      <td>5</td>\n",
       "      <td>NaN</td>\n",
       "      <td>NaN</td>\n",
       "    </tr>\n",
       "    <tr>\n",
       "      <th>8</th>\n",
       "      <td>2013</td>\n",
       "      <td>All Other Causes</td>\n",
       "      <td>M</td>\n",
       "      <td>Not Stated/Unknown</td>\n",
       "      <td>139</td>\n",
       "      <td>NaN</td>\n",
       "      <td>NaN</td>\n",
       "    </tr>\n",
       "    <tr>\n",
       "      <th>11</th>\n",
       "      <td>2011</td>\n",
       "      <td>Mental and Behavioral Disorders due to Acciden...</td>\n",
       "      <td>M</td>\n",
       "      <td>Not Stated/Unknown</td>\n",
       "      <td>5</td>\n",
       "      <td>NaN</td>\n",
       "      <td>NaN</td>\n",
       "    </tr>\n",
       "    <tr>\n",
       "      <th>...</th>\n",
       "      <td>...</td>\n",
       "      <td>...</td>\n",
       "      <td>...</td>\n",
       "      <td>...</td>\n",
       "      <td>...</td>\n",
       "      <td>...</td>\n",
       "      <td>...</td>\n",
       "    </tr>\n",
       "    <tr>\n",
       "      <th>1255</th>\n",
       "      <td>2019</td>\n",
       "      <td>Anemias</td>\n",
       "      <td>F</td>\n",
       "      <td>Other Race/ Ethnicity</td>\n",
       "      <td>1</td>\n",
       "      <td>NaN</td>\n",
       "      <td>NaN</td>\n",
       "    </tr>\n",
       "    <tr>\n",
       "      <th>1256</th>\n",
       "      <td>2019</td>\n",
       "      <td>Cholelithiasis and Disorders of Gallbladder</td>\n",
       "      <td>F</td>\n",
       "      <td>Other Race/ Ethnicity</td>\n",
       "      <td>1</td>\n",
       "      <td>NaN</td>\n",
       "      <td>NaN</td>\n",
       "    </tr>\n",
       "    <tr>\n",
       "      <th>1257</th>\n",
       "      <td>2019</td>\n",
       "      <td>Parkinson's Disease</td>\n",
       "      <td>F</td>\n",
       "      <td>Other Race/ Ethnicity</td>\n",
       "      <td>1</td>\n",
       "      <td>NaN</td>\n",
       "      <td>NaN</td>\n",
       "    </tr>\n",
       "    <tr>\n",
       "      <th>1258</th>\n",
       "      <td>2019</td>\n",
       "      <td>Peptic Ulcer</td>\n",
       "      <td>F</td>\n",
       "      <td>Other Race/ Ethnicity</td>\n",
       "      <td>1</td>\n",
       "      <td>NaN</td>\n",
       "      <td>NaN</td>\n",
       "    </tr>\n",
       "    <tr>\n",
       "      <th>1259</th>\n",
       "      <td>2019</td>\n",
       "      <td>All Other Causes</td>\n",
       "      <td>F</td>\n",
       "      <td>Other Race/ Ethnicity</td>\n",
       "      <td>17</td>\n",
       "      <td>NaN</td>\n",
       "      <td>NaN</td>\n",
       "    </tr>\n",
       "  </tbody>\n",
       "</table>\n",
       "<p>453 rows × 7 columns</p>\n",
       "</div>"
      ],
      "text/plain": [
       "      year                                      leading_cause sex  \\\n",
       "0     2009        Nephritis, Nephrotic Syndrome and Nephrisis   F   \n",
       "2     2012                                            Assault   M   \n",
       "3     2007          Essential Hypertension and Renal Diseases   F   \n",
       "8     2013                                   All Other Causes   M   \n",
       "11    2011  Mental and Behavioral Disorders due to Acciden...   M   \n",
       "...    ...                                                ...  ..   \n",
       "1255  2019                                            Anemias   F   \n",
       "1256  2019        Cholelithiasis and Disorders of Gallbladder   F   \n",
       "1257  2019                                Parkinson's Disease   F   \n",
       "1258  2019                                       Peptic Ulcer   F   \n",
       "1259  2019                                   All Other Causes   F   \n",
       "\n",
       "             race_ethnicity deaths death_rate age_adjusted_death_rate  \n",
       "0     Other Race/ Ethnicity    NaN        NaN                     NaN  \n",
       "2     Other Race/ Ethnicity    NaN        NaN                     NaN  \n",
       "3        Not Stated/Unknown      5        NaN                     NaN  \n",
       "8        Not Stated/Unknown    139        NaN                     NaN  \n",
       "11       Not Stated/Unknown      5        NaN                     NaN  \n",
       "...                     ...    ...        ...                     ...  \n",
       "1255  Other Race/ Ethnicity      1        NaN                     NaN  \n",
       "1256  Other Race/ Ethnicity      1        NaN                     NaN  \n",
       "1257  Other Race/ Ethnicity      1        NaN                     NaN  \n",
       "1258  Other Race/ Ethnicity      1        NaN                     NaN  \n",
       "1259  Other Race/ Ethnicity     17        NaN                     NaN  \n",
       "\n",
       "[453 rows x 7 columns]"
      ]
     },
     "execution_count": 30,
     "metadata": {},
     "output_type": "execute_result"
    }
   ],
   "source": [
    "missingdf"
   ]
  },
  {
   "cell_type": "code",
   "execution_count": 31,
   "id": "8a9ee541-9b40-429f-8783-9023d3a9de36",
   "metadata": {},
   "outputs": [],
   "source": [
    "numdf = pd.merge(df,missingdf, indicator=True, how='outer').query('_merge==\"left_only\"').drop('_merge', axis=1)\n",
    "# dropping data shared with another dataset from https://stackoverflow.com/questions/44706485/how-to-remove-rows-in-a-pandas-dataframe-if-the-same-row-exists-in-another-dataf\n",
    "# I feel like there should be an easier way to achieve what I want but I couldn't figure it out."
   ]
  },
  {
   "cell_type": "code",
   "execution_count": 32,
   "id": "bdc064b9-0fc1-4057-86a0-d91b39a19c23",
   "metadata": {},
   "outputs": [
    {
     "data": {
      "text/html": [
       "<div>\n",
       "<style scoped>\n",
       "    .dataframe tbody tr th:only-of-type {\n",
       "        vertical-align: middle;\n",
       "    }\n",
       "\n",
       "    .dataframe tbody tr th {\n",
       "        vertical-align: top;\n",
       "    }\n",
       "\n",
       "    .dataframe thead th {\n",
       "        text-align: right;\n",
       "    }\n",
       "</style>\n",
       "<table border=\"1\" class=\"dataframe\">\n",
       "  <thead>\n",
       "    <tr style=\"text-align: right;\">\n",
       "      <th></th>\n",
       "      <th>year</th>\n",
       "      <th>leading_cause</th>\n",
       "      <th>sex</th>\n",
       "      <th>race_ethnicity</th>\n",
       "      <th>deaths</th>\n",
       "      <th>death_rate</th>\n",
       "      <th>age_adjusted_death_rate</th>\n",
       "    </tr>\n",
       "  </thead>\n",
       "  <tbody>\n",
       "    <tr>\n",
       "      <th>1</th>\n",
       "      <td>2013</td>\n",
       "      <td>Influenza  and Pneumonia</td>\n",
       "      <td>F</td>\n",
       "      <td>Hispanic</td>\n",
       "      <td>204</td>\n",
       "      <td>16.3</td>\n",
       "      <td>18.5</td>\n",
       "    </tr>\n",
       "    <tr>\n",
       "      <th>4</th>\n",
       "      <td>2014</td>\n",
       "      <td>Cerebrovascular Disease</td>\n",
       "      <td>F</td>\n",
       "      <td>Non-Hispanic White</td>\n",
       "      <td>418</td>\n",
       "      <td>29.5</td>\n",
       "      <td>15.6</td>\n",
       "    </tr>\n",
       "    <tr>\n",
       "      <th>5</th>\n",
       "      <td>2009</td>\n",
       "      <td>Essential Hypertension and Renal Diseases</td>\n",
       "      <td>M</td>\n",
       "      <td>Asian and Pacific Islander</td>\n",
       "      <td>26</td>\n",
       "      <td>5.1</td>\n",
       "      <td>7.2</td>\n",
       "    </tr>\n",
       "    <tr>\n",
       "      <th>6</th>\n",
       "      <td>2013</td>\n",
       "      <td>Influenza  and Pneumonia</td>\n",
       "      <td>M</td>\n",
       "      <td>Non-Hispanic White</td>\n",
       "      <td>618</td>\n",
       "      <td>45.9</td>\n",
       "      <td>36.7</td>\n",
       "    </tr>\n",
       "    <tr>\n",
       "      <th>7</th>\n",
       "      <td>2007</td>\n",
       "      <td>Assault</td>\n",
       "      <td>M</td>\n",
       "      <td>Non-Hispanic Black</td>\n",
       "      <td>267</td>\n",
       "      <td>31.3</td>\n",
       "      <td>31.1</td>\n",
       "    </tr>\n",
       "    <tr>\n",
       "      <th>...</th>\n",
       "      <td>...</td>\n",
       "      <td>...</td>\n",
       "      <td>...</td>\n",
       "      <td>...</td>\n",
       "      <td>...</td>\n",
       "      <td>...</td>\n",
       "      <td>...</td>\n",
       "    </tr>\n",
       "    <tr>\n",
       "      <th>1271</th>\n",
       "      <td>2019</td>\n",
       "      <td>Influenza  and Pneumonia</td>\n",
       "      <td>F</td>\n",
       "      <td>Not Stated/Unknown</td>\n",
       "      <td>8</td>\n",
       "      <td>8.844176662</td>\n",
       "      <td>12.14778648</td>\n",
       "    </tr>\n",
       "    <tr>\n",
       "      <th>1272</th>\n",
       "      <td>2019</td>\n",
       "      <td>Certain Conditions originating in the Perinata...</td>\n",
       "      <td>F</td>\n",
       "      <td>Not Stated/Unknown</td>\n",
       "      <td>7</td>\n",
       "      <td>7.73865458</td>\n",
       "      <td>6.390793995</td>\n",
       "    </tr>\n",
       "    <tr>\n",
       "      <th>1273</th>\n",
       "      <td>2019</td>\n",
       "      <td>Mental and Behavioral Disorders due to Acciden...</td>\n",
       "      <td>F</td>\n",
       "      <td>Not Stated/Unknown</td>\n",
       "      <td>5</td>\n",
       "      <td>5.527610414</td>\n",
       "      <td>6.724040882</td>\n",
       "    </tr>\n",
       "    <tr>\n",
       "      <th>1274</th>\n",
       "      <td>2019</td>\n",
       "      <td>Intentional Self-Harm</td>\n",
       "      <td>F</td>\n",
       "      <td>Not Stated/Unknown</td>\n",
       "      <td>5</td>\n",
       "      <td>5.527610414</td>\n",
       "      <td>6.979219825</td>\n",
       "    </tr>\n",
       "    <tr>\n",
       "      <th>1275</th>\n",
       "      <td>2019</td>\n",
       "      <td>All Other Causes</td>\n",
       "      <td>F</td>\n",
       "      <td>Not Stated/Unknown</td>\n",
       "      <td>64</td>\n",
       "      <td>70.7534133</td>\n",
       "      <td>88.7919256</td>\n",
       "    </tr>\n",
       "  </tbody>\n",
       "</table>\n",
       "<p>819 rows × 7 columns</p>\n",
       "</div>"
      ],
      "text/plain": [
       "      year                                      leading_cause sex  \\\n",
       "1     2013                           Influenza  and Pneumonia   F   \n",
       "4     2014                            Cerebrovascular Disease   F   \n",
       "5     2009          Essential Hypertension and Renal Diseases   M   \n",
       "6     2013                           Influenza  and Pneumonia   M   \n",
       "7     2007                                            Assault   M   \n",
       "...    ...                                                ...  ..   \n",
       "1271  2019                           Influenza  and Pneumonia   F   \n",
       "1272  2019  Certain Conditions originating in the Perinata...   F   \n",
       "1273  2019  Mental and Behavioral Disorders due to Acciden...   F   \n",
       "1274  2019                              Intentional Self-Harm   F   \n",
       "1275  2019                                   All Other Causes   F   \n",
       "\n",
       "                  race_ethnicity deaths   death_rate age_adjusted_death_rate  \n",
       "1                       Hispanic    204         16.3                    18.5  \n",
       "4             Non-Hispanic White    418         29.5                    15.6  \n",
       "5     Asian and Pacific Islander     26          5.1                     7.2  \n",
       "6             Non-Hispanic White    618         45.9                    36.7  \n",
       "7             Non-Hispanic Black    267         31.3                    31.1  \n",
       "...                          ...    ...          ...                     ...  \n",
       "1271          Not Stated/Unknown      8  8.844176662             12.14778648  \n",
       "1272          Not Stated/Unknown      7   7.73865458             6.390793995  \n",
       "1273          Not Stated/Unknown      5  5.527610414             6.724040882  \n",
       "1274          Not Stated/Unknown      5  5.527610414             6.979219825  \n",
       "1275          Not Stated/Unknown     64   70.7534133              88.7919256  \n",
       "\n",
       "[819 rows x 7 columns]"
      ]
     },
     "execution_count": 32,
     "metadata": {},
     "output_type": "execute_result"
    }
   ],
   "source": [
    "numdf"
   ]
  },
  {
   "cell_type": "markdown",
   "id": "ec0d877d-c4eb-4719-8090-a448278c7ec0",
   "metadata": {},
   "source": [
    "The missing data is moved into another dataset so that the main data can be analyzed numerically and so that we have a more clear picture as to what kind of data is missing."
   ]
  },
  {
   "cell_type": "code",
   "execution_count": 33,
   "id": "d3289384-9188-451e-8631-a3e72adb5e38",
   "metadata": {},
   "outputs": [
    {
     "data": {
      "text/plain": [
       "NaN    138\n",
       "5       33\n",
       "8       23\n",
       "6       22\n",
       "1       21\n",
       "      ... \n",
       "95       1\n",
       "92       1\n",
       "106      1\n",
       "26       1\n",
       "30       1\n",
       "Name: deaths, Length: 77, dtype: int64"
      ]
     },
     "execution_count": 33,
     "metadata": {},
     "output_type": "execute_result"
    }
   ],
   "source": [
    "missingdf['deaths'].value_counts(dropna=False)"
   ]
  },
  {
   "cell_type": "code",
   "execution_count": 34,
   "id": "f96dbcd6-4d5e-4c10-8267-298d18c4d627",
   "metadata": {},
   "outputs": [
    {
     "data": {
      "text/plain": [
       "NaN    453\n",
       "Name: death_rate, dtype: int64"
      ]
     },
     "execution_count": 34,
     "metadata": {},
     "output_type": "execute_result"
    }
   ],
   "source": [
    "missingdf['death_rate'].value_counts(dropna=False)"
   ]
  },
  {
   "cell_type": "code",
   "execution_count": 35,
   "id": "d33daab4-6d30-4479-b909-c888751450a8",
   "metadata": {},
   "outputs": [
    {
     "data": {
      "text/plain": [
       "NaN    453\n",
       "Name: age_adjusted_death_rate, dtype: int64"
      ]
     },
     "execution_count": 35,
     "metadata": {},
     "output_type": "execute_result"
    }
   ],
   "source": [
    "missingdf['age_adjusted_death_rate'].value_counts(dropna=False)"
   ]
  },
  {
   "cell_type": "code",
   "execution_count": 36,
   "id": "c8ebe9f8-81ae-4347-beac-ba7253e728dc",
   "metadata": {},
   "outputs": [
    {
     "data": {
      "text/plain": [
       "Other Race/ Ethnicity    253\n",
       "Not Stated/Unknown       200\n",
       "Name: race_ethnicity, dtype: int64"
      ]
     },
     "execution_count": 36,
     "metadata": {},
     "output_type": "execute_result"
    }
   ],
   "source": [
    "missingdf['race_ethnicity'].value_counts()"
   ]
  },
  {
   "cell_type": "markdown",
   "id": "9930dc68-9470-4341-a538-bb35ea164347",
   "metadata": {},
   "source": [
    "The missing data on number of deaths all appears to coincide with either unknown or races/ethnicities that are not among the main races/ethnicities represented in the data. It also appears to account for the majority of missing, unknown, and unaccounted for ethnicities represented in the data."
   ]
  },
  {
   "cell_type": "code",
   "execution_count": 37,
   "id": "9bb1074e-d6b4-4377-b4be-9505f4a41703",
   "metadata": {},
   "outputs": [
    {
     "data": {
      "text/plain": [
       "2019    67\n",
       "2011    53\n",
       "2007    51\n",
       "2010    50\n",
       "2014    48\n",
       "2008    47\n",
       "2009    46\n",
       "2012    46\n",
       "2013    45\n",
       "Name: year, dtype: int64"
      ]
     },
     "execution_count": 37,
     "metadata": {},
     "output_type": "execute_result"
    }
   ],
   "source": [
    "missingdf['year'].value_counts()"
   ]
  },
  {
   "cell_type": "markdown",
   "id": "5c379ce4-a048-4186-9692-dd0f66696b0f",
   "metadata": {},
   "source": [
    "The missing data appears to be relatively evenly distributed accross the year."
   ]
  },
  {
   "cell_type": "code",
   "execution_count": 38,
   "id": "4d9f4c15-c887-4379-a3c7-bf237998f000",
   "metadata": {},
   "outputs": [
    {
     "data": {
      "text/plain": [
       "F    234\n",
       "M    219\n",
       "Name: sex, dtype: int64"
      ]
     },
     "execution_count": 38,
     "metadata": {},
     "output_type": "execute_result"
    }
   ],
   "source": [
    "missingdf['sex'].value_counts()"
   ]
  },
  {
   "cell_type": "markdown",
   "id": "3ef2272b-da4b-46a7-b980-66ee6affdaf6",
   "metadata": {},
   "source": [
    "There are more female missing entrys missing data then male, but because the data that is missing is number of deaths, in is difficult to tell whether more men or more women were not entered."
   ]
  },
  {
   "cell_type": "code",
   "execution_count": 39,
   "id": "d1b4d37b-d9c7-4aca-a5db-c17c469a93af",
   "metadata": {},
   "outputs": [
    {
     "data": {
      "text/plain": [
       "<AxesSubplot:>"
      ]
     },
     "execution_count": 39,
     "metadata": {},
     "output_type": "execute_result"
    },
    {
     "data": {
      "image/png": "[encoded data removed]",
      "text/plain": [
       "<Figure size 432x288 with 1 Axes>"
      ]
     },
     "metadata": {
      "needs_background": "light"
     },
     "output_type": "display_data"
    }
   ],
   "source": [
    "missingdf['leading_cause'].hist()"
   ]
  },
  {
   "cell_type": "code",
   "execution_count": 40,
   "id": "4cfc7efc-d135-45ab-a124-2bd19e6cf2c3",
   "metadata": {},
   "outputs": [
    {
     "data": {
      "text/plain": [
       "<AxesSubplot:>"
      ]
     },
     "execution_count": 40,
     "metadata": {},
     "output_type": "execute_result"
    },
    {
     "data": {
      "image/png": "[encoded data removed]",
      "text/plain": [
       "<Figure size 432x288 with 1 Axes>"
      ]
     },
     "metadata": {
      "needs_background": "light"
     },
     "output_type": "display_data"
    }
   ],
   "source": [
    "df['leading_cause'].hist()"
   ]
  },
  {
   "cell_type": "code",
   "execution_count": 41,
   "id": "8ae869e4-4763-4343-8ef4-58a330889cec",
   "metadata": {},
   "outputs": [
    {
     "data": {
      "text/plain": [
       "<AxesSubplot:>"
      ]
     },
     "execution_count": 41,
     "metadata": {},
     "output_type": "execute_result"
    },
    {
     "data": {
      "image/png": "[encoded data removed]",
      "text/plain": [
       "<Figure size 432x288 with 1 Axes>"
      ]
     },
     "metadata": {
      "needs_background": "light"
     },
     "output_type": "display_data"
    }
   ],
   "source": [
    "numdf['leading_cause'].hist()"
   ]
  },
  {
   "cell_type": "markdown",
   "id": "cd8962c8-b32b-455b-a414-5d1d37914e7d",
   "metadata": {},
   "source": [
    "The pandas hist function does not handle the text based values well enough to give a clear picture of the data. The x axis is unreadable."
   ]
  },
  {
   "cell_type": "code",
   "execution_count": 42,
   "id": "7a6fb835-0622-4ae0-9524-d3cd32ecc13a",
   "metadata": {},
   "outputs": [
    {
     "data": {
      "text/plain": [
       "22"
      ]
     },
     "execution_count": 42,
     "metadata": {},
     "output_type": "execute_result"
    }
   ],
   "source": [
    "numdf['leading_cause'].nunique()"
   ]
  },
  {
   "cell_type": "code",
   "execution_count": 43,
   "id": "e17d0766-21f2-4b68-8f21-db698dbc4dd5",
   "metadata": {},
   "outputs": [
    {
     "data": {
      "text/plain": [
       "31"
      ]
     },
     "execution_count": 43,
     "metadata": {},
     "output_type": "execute_result"
    }
   ],
   "source": [
    "df['leading_cause'].nunique()"
   ]
  },
  {
   "cell_type": "code",
   "execution_count": 44,
   "id": "44360087-894f-4c4a-a701-afbff66eb1c7",
   "metadata": {},
   "outputs": [],
   "source": [
    "missing_causes = np.setdiff1d(missingdf['leading_cause'].unique(), numdf['leading_cause'].unique(), assume_unique=True)"
   ]
  },
  {
   "cell_type": "code",
   "execution_count": 45,
   "id": "a44e4b3d-634f-4800-a10b-687479acec65",
   "metadata": {},
   "outputs": [
    {
     "data": {
      "text/plain": [
       "array(['Atherosclerosis', 'Tuberculosis',\n",
       "       'Aortic Aneurysm and Dissection',\n",
       "       'Insitu or Benign / Uncertain Neoplasms', \"Parkinson's Disease\",\n",
       "       'Complications of Medical and Surgical Care',\n",
       "       'Cholelithiasis and Disorders of Gallbladder', 'Anemias',\n",
       "       'Peptic Ulcer'], dtype=object)"
      ]
     },
     "execution_count": 45,
     "metadata": {},
     "output_type": "execute_result"
    }
   ],
   "source": [
    "missing_causes"
   ]
  },
  {
   "cell_type": "markdown",
   "id": "04e97eee-c437-4ee9-a13f-e0dc6bf2f60e",
   "metadata": {},
   "source": [
    "None of the leading causes in the missing causes have any data regarding the number of deaths or death rate in this dataset and have therefore been exluded from numdf, our dataframe excluding missing data."
   ]
  },
  {
   "cell_type": "code",
   "execution_count": 46,
   "id": "31cd22c2-8877-4cd6-bc47-265f60e5b94c",
   "metadata": {},
   "outputs": [],
   "source": [
    "numdf['deaths'] = numdf['deaths'].astype(np.int64)"
   ]
  },
  {
   "cell_type": "code",
   "execution_count": 47,
   "id": "0a0ad52d-fd2f-4f3e-97da-18c7817eb16b",
   "metadata": {},
   "outputs": [],
   "source": [
    "numdf['death_rate'] = numdf['death_rate'].astype(float)"
   ]
  },
  {
   "cell_type": "code",
   "execution_count": 48,
   "id": "6af0b5bd-1b4b-418e-af89-1bc5ac41c090",
   "metadata": {},
   "outputs": [],
   "source": [
    "numdf['age_adjusted_death_rate'] = numdf['age_adjusted_death_rate'].astype(float)"
   ]
  },
  {
   "cell_type": "code",
   "execution_count": 49,
   "id": "2e156e91-89a7-4085-87b4-ee1dbdcc32a2",
   "metadata": {},
   "outputs": [
    {
     "data": {
      "text/plain": [
       "year                         int64\n",
       "leading_cause               object\n",
       "sex                         object\n",
       "race_ethnicity              object\n",
       "deaths                       int64\n",
       "death_rate                 float64\n",
       "age_adjusted_death_rate    float64\n",
       "dtype: object"
      ]
     },
     "execution_count": 49,
     "metadata": {},
     "output_type": "execute_result"
    }
   ],
   "source": [
    "numdf.dtypes"
   ]
  },
  {
   "cell_type": "markdown",
   "id": "a02159d3-906b-48fb-be06-f136fc410776",
   "metadata": {},
   "source": [
    "Cleaned data is converted to numerical datatypes."
   ]
  },
  {
   "cell_type": "code",
   "execution_count": 50,
   "id": "27b7607a-10c4-48da-bde3-f9168fd86482",
   "metadata": {},
   "outputs": [
    {
     "data": {
      "text/html": [
       "<div>\n",
       "<style scoped>\n",
       "    .dataframe tbody tr th:only-of-type {\n",
       "        vertical-align: middle;\n",
       "    }\n",
       "\n",
       "    .dataframe tbody tr th {\n",
       "        vertical-align: top;\n",
       "    }\n",
       "\n",
       "    .dataframe thead th {\n",
       "        text-align: right;\n",
       "    }\n",
       "</style>\n",
       "<table border=\"1\" class=\"dataframe\">\n",
       "  <thead>\n",
       "    <tr style=\"text-align: right;\">\n",
       "      <th></th>\n",
       "      <th>year</th>\n",
       "      <th>deaths</th>\n",
       "      <th>death_rate</th>\n",
       "      <th>age_adjusted_death_rate</th>\n",
       "    </tr>\n",
       "  </thead>\n",
       "  <tbody>\n",
       "    <tr>\n",
       "      <th>count</th>\n",
       "      <td>819.000000</td>\n",
       "      <td>819.000000</td>\n",
       "      <td>819.000000</td>\n",
       "      <td>819.000000</td>\n",
       "    </tr>\n",
       "    <tr>\n",
       "      <th>mean</th>\n",
       "      <td>2011.638584</td>\n",
       "      <td>577.313797</td>\n",
       "      <td>53.524092</td>\n",
       "      <td>53.211337</td>\n",
       "    </tr>\n",
       "    <tr>\n",
       "      <th>std</th>\n",
       "      <td>3.614529</td>\n",
       "      <td>958.372480</td>\n",
       "      <td>75.619619</td>\n",
       "      <td>69.038603</td>\n",
       "    </tr>\n",
       "    <tr>\n",
       "      <th>min</th>\n",
       "      <td>2007.000000</td>\n",
       "      <td>5.000000</td>\n",
       "      <td>2.400000</td>\n",
       "      <td>2.500000</td>\n",
       "    </tr>\n",
       "    <tr>\n",
       "      <th>25%</th>\n",
       "      <td>2009.000000</td>\n",
       "      <td>102.000000</td>\n",
       "      <td>11.950000</td>\n",
       "      <td>12.000000</td>\n",
       "    </tr>\n",
       "    <tr>\n",
       "      <th>50%</th>\n",
       "      <td>2011.000000</td>\n",
       "      <td>207.000000</td>\n",
       "      <td>18.500000</td>\n",
       "      <td>20.000000</td>\n",
       "    </tr>\n",
       "    <tr>\n",
       "      <th>75%</th>\n",
       "      <td>2013.000000</td>\n",
       "      <td>472.500000</td>\n",
       "      <td>66.068424</td>\n",
       "      <td>77.900000</td>\n",
       "    </tr>\n",
       "    <tr>\n",
       "      <th>max</th>\n",
       "      <td>2019.000000</td>\n",
       "      <td>7050.000000</td>\n",
       "      <td>491.400000</td>\n",
       "      <td>414.594473</td>\n",
       "    </tr>\n",
       "  </tbody>\n",
       "</table>\n",
       "</div>"
      ],
      "text/plain": [
       "              year       deaths  death_rate  age_adjusted_death_rate\n",
       "count   819.000000   819.000000  819.000000               819.000000\n",
       "mean   2011.638584   577.313797   53.524092                53.211337\n",
       "std       3.614529   958.372480   75.619619                69.038603\n",
       "min    2007.000000     5.000000    2.400000                 2.500000\n",
       "25%    2009.000000   102.000000   11.950000                12.000000\n",
       "50%    2011.000000   207.000000   18.500000                20.000000\n",
       "75%    2013.000000   472.500000   66.068424                77.900000\n",
       "max    2019.000000  7050.000000  491.400000               414.594473"
      ]
     },
     "execution_count": 50,
     "metadata": {},
     "output_type": "execute_result"
    }
   ],
   "source": [
    "numdf.describe()"
   ]
  },
  {
   "cell_type": "code",
   "execution_count": 51,
   "id": "defdb027-18a0-426d-8bf0-e1f44a5ec85b",
   "metadata": {},
   "outputs": [],
   "source": [
    "linedf = numdf[['year','deaths']].copy()"
   ]
  },
  {
   "cell_type": "code",
   "execution_count": 52,
   "id": "91eb73e2-0b10-461a-a7a0-de116bb46a80",
   "metadata": {},
   "outputs": [],
   "source": [
    "linedf = linedf.groupby(['year'], as_index=False).agg({'deaths':'sum'})"
   ]
  },
  {
   "cell_type": "code",
   "execution_count": 53,
   "id": "bb5358f6-221b-4959-8ca8-c1fd646ed582",
   "metadata": {},
   "outputs": [
    {
     "data": {
      "text/html": [
       "<div>\n",
       "<style scoped>\n",
       "    .dataframe tbody tr th:only-of-type {\n",
       "        vertical-align: middle;\n",
       "    }\n",
       "\n",
       "    .dataframe tbody tr th {\n",
       "        vertical-align: top;\n",
       "    }\n",
       "\n",
       "    .dataframe thead th {\n",
       "        text-align: right;\n",
       "    }\n",
       "</style>\n",
       "<table border=\"1\" class=\"dataframe\">\n",
       "  <thead>\n",
       "    <tr style=\"text-align: right;\">\n",
       "      <th></th>\n",
       "      <th>year</th>\n",
       "      <th>deaths</th>\n",
       "    </tr>\n",
       "  </thead>\n",
       "  <tbody>\n",
       "    <tr>\n",
       "      <th>0</th>\n",
       "      <td>2007</td>\n",
       "      <td>53396</td>\n",
       "    </tr>\n",
       "    <tr>\n",
       "      <th>1</th>\n",
       "      <td>2008</td>\n",
       "      <td>53437</td>\n",
       "    </tr>\n",
       "    <tr>\n",
       "      <th>2</th>\n",
       "      <td>2009</td>\n",
       "      <td>52198</td>\n",
       "    </tr>\n",
       "    <tr>\n",
       "      <th>3</th>\n",
       "      <td>2010</td>\n",
       "      <td>51924</td>\n",
       "    </tr>\n",
       "    <tr>\n",
       "      <th>4</th>\n",
       "      <td>2011</td>\n",
       "      <td>52191</td>\n",
       "    </tr>\n",
       "    <tr>\n",
       "      <th>5</th>\n",
       "      <td>2012</td>\n",
       "      <td>51634</td>\n",
       "    </tr>\n",
       "    <tr>\n",
       "      <th>6</th>\n",
       "      <td>2013</td>\n",
       "      <td>52125</td>\n",
       "    </tr>\n",
       "    <tr>\n",
       "      <th>7</th>\n",
       "      <td>2014</td>\n",
       "      <td>51855</td>\n",
       "    </tr>\n",
       "    <tr>\n",
       "      <th>8</th>\n",
       "      <td>2019</td>\n",
       "      <td>54060</td>\n",
       "    </tr>\n",
       "  </tbody>\n",
       "</table>\n",
       "</div>"
      ],
      "text/plain": [
       "   year  deaths\n",
       "0  2007   53396\n",
       "1  2008   53437\n",
       "2  2009   52198\n",
       "3  2010   51924\n",
       "4  2011   52191\n",
       "5  2012   51634\n",
       "6  2013   52125\n",
       "7  2014   51855\n",
       "8  2019   54060"
      ]
     },
     "execution_count": 53,
     "metadata": {},
     "output_type": "execute_result"
    }
   ],
   "source": [
    "linedf"
   ]
  },
  {
   "cell_type": "markdown",
   "id": "0378c6c0-5d85-4188-9442-cdc15e23aee7",
   "metadata": {},
   "source": [
    "# Deaths occurring each year"
   ]
  },
  {
   "cell_type": "code",
   "execution_count": 54,
   "id": "588c8d21-7ecb-4e66-b905-ffcb9e599fbb",
   "metadata": {},
   "outputs": [
    {
     "data": {
      "image/png": "[encoded data removed]",
      "text/plain": [
       "<Figure size 432x288 with 1 Axes>"
      ]
     },
     "metadata": {
      "needs_background": "light"
     },
     "output_type": "display_data"
    }
   ],
   "source": [
    "line = sns.barplot(data=linedf, x='year', y='deaths').set(\n",
    "    title = \"Deaths per Year\"\n",
    ")"
   ]
  },
  {
   "cell_type": "markdown",
   "id": "3afce07e-edea-4009-a0d6-fb410459a23e",
   "metadata": {},
   "source": [
    "The number of deaths each year appears to be relatively consitent year by year. There is a notable gap in the data between 2014 and 2019."
   ]
  },
  {
   "cell_type": "code",
   "execution_count": 55,
   "id": "73d6c7e2-13a9-4c35-b122-4cdfbf60a20d",
   "metadata": {},
   "outputs": [],
   "source": [
    "linedf = numdf[['year','sex','deaths']].copy()"
   ]
  },
  {
   "cell_type": "code",
   "execution_count": 56,
   "id": "ae7812db-7afc-42eb-ae9c-5b8dbca1d717",
   "metadata": {},
   "outputs": [],
   "source": [
    "linedf = linedf.groupby(['year','sex'], as_index=False).agg({'deaths':'sum'})"
   ]
  },
  {
   "cell_type": "code",
   "execution_count": 57,
   "id": "ae843033-b74f-4bf7-a576-35735552f630",
   "metadata": {},
   "outputs": [
    {
     "data": {
      "text/html": [
       "<div>\n",
       "<style scoped>\n",
       "    .dataframe tbody tr th:only-of-type {\n",
       "        vertical-align: middle;\n",
       "    }\n",
       "\n",
       "    .dataframe tbody tr th {\n",
       "        vertical-align: top;\n",
       "    }\n",
       "\n",
       "    .dataframe thead th {\n",
       "        text-align: right;\n",
       "    }\n",
       "</style>\n",
       "<table border=\"1\" class=\"dataframe\">\n",
       "  <thead>\n",
       "    <tr style=\"text-align: right;\">\n",
       "      <th></th>\n",
       "      <th>year</th>\n",
       "      <th>sex</th>\n",
       "      <th>deaths</th>\n",
       "    </tr>\n",
       "  </thead>\n",
       "  <tbody>\n",
       "    <tr>\n",
       "      <th>0</th>\n",
       "      <td>2007</td>\n",
       "      <td>F</td>\n",
       "      <td>27493</td>\n",
       "    </tr>\n",
       "    <tr>\n",
       "      <th>1</th>\n",
       "      <td>2007</td>\n",
       "      <td>M</td>\n",
       "      <td>25903</td>\n",
       "    </tr>\n",
       "    <tr>\n",
       "      <th>2</th>\n",
       "      <td>2008</td>\n",
       "      <td>F</td>\n",
       "      <td>27505</td>\n",
       "    </tr>\n",
       "    <tr>\n",
       "      <th>3</th>\n",
       "      <td>2008</td>\n",
       "      <td>M</td>\n",
       "      <td>25932</td>\n",
       "    </tr>\n",
       "    <tr>\n",
       "      <th>4</th>\n",
       "      <td>2009</td>\n",
       "      <td>F</td>\n",
       "      <td>26659</td>\n",
       "    </tr>\n",
       "    <tr>\n",
       "      <th>5</th>\n",
       "      <td>2009</td>\n",
       "      <td>M</td>\n",
       "      <td>25539</td>\n",
       "    </tr>\n",
       "    <tr>\n",
       "      <th>6</th>\n",
       "      <td>2010</td>\n",
       "      <td>F</td>\n",
       "      <td>26414</td>\n",
       "    </tr>\n",
       "    <tr>\n",
       "      <th>7</th>\n",
       "      <td>2010</td>\n",
       "      <td>M</td>\n",
       "      <td>25510</td>\n",
       "    </tr>\n",
       "    <tr>\n",
       "      <th>8</th>\n",
       "      <td>2011</td>\n",
       "      <td>F</td>\n",
       "      <td>26853</td>\n",
       "    </tr>\n",
       "    <tr>\n",
       "      <th>9</th>\n",
       "      <td>2011</td>\n",
       "      <td>M</td>\n",
       "      <td>25338</td>\n",
       "    </tr>\n",
       "    <tr>\n",
       "      <th>10</th>\n",
       "      <td>2012</td>\n",
       "      <td>F</td>\n",
       "      <td>26417</td>\n",
       "    </tr>\n",
       "    <tr>\n",
       "      <th>11</th>\n",
       "      <td>2012</td>\n",
       "      <td>M</td>\n",
       "      <td>25217</td>\n",
       "    </tr>\n",
       "    <tr>\n",
       "      <th>12</th>\n",
       "      <td>2013</td>\n",
       "      <td>F</td>\n",
       "      <td>26609</td>\n",
       "    </tr>\n",
       "    <tr>\n",
       "      <th>13</th>\n",
       "      <td>2013</td>\n",
       "      <td>M</td>\n",
       "      <td>25516</td>\n",
       "    </tr>\n",
       "    <tr>\n",
       "      <th>14</th>\n",
       "      <td>2014</td>\n",
       "      <td>F</td>\n",
       "      <td>26420</td>\n",
       "    </tr>\n",
       "    <tr>\n",
       "      <th>15</th>\n",
       "      <td>2014</td>\n",
       "      <td>M</td>\n",
       "      <td>25435</td>\n",
       "    </tr>\n",
       "    <tr>\n",
       "      <th>16</th>\n",
       "      <td>2019</td>\n",
       "      <td>F</td>\n",
       "      <td>26645</td>\n",
       "    </tr>\n",
       "    <tr>\n",
       "      <th>17</th>\n",
       "      <td>2019</td>\n",
       "      <td>M</td>\n",
       "      <td>27415</td>\n",
       "    </tr>\n",
       "  </tbody>\n",
       "</table>\n",
       "</div>"
      ],
      "text/plain": [
       "    year sex  deaths\n",
       "0   2007   F   27493\n",
       "1   2007   M   25903\n",
       "2   2008   F   27505\n",
       "3   2008   M   25932\n",
       "4   2009   F   26659\n",
       "5   2009   M   25539\n",
       "6   2010   F   26414\n",
       "7   2010   M   25510\n",
       "8   2011   F   26853\n",
       "9   2011   M   25338\n",
       "10  2012   F   26417\n",
       "11  2012   M   25217\n",
       "12  2013   F   26609\n",
       "13  2013   M   25516\n",
       "14  2014   F   26420\n",
       "15  2014   M   25435\n",
       "16  2019   F   26645\n",
       "17  2019   M   27415"
      ]
     },
     "execution_count": 57,
     "metadata": {},
     "output_type": "execute_result"
    }
   ],
   "source": [
    "linedf"
   ]
  },
  {
   "cell_type": "code",
   "execution_count": 58,
   "id": "eb2d55ef-f4ea-4eb1-9ba0-57d48c012503",
   "metadata": {},
   "outputs": [
    {
     "data": {
      "text/plain": [
       "<matplotlib.legend.Legend at 0x1f5e7465af0>"
      ]
     },
     "execution_count": 58,
     "metadata": {},
     "output_type": "execute_result"
    },
    {
     "data": {
      "image/png": "[encoded data removed]",
      "text/plain": [
       "<Figure size 432x288 with 1 Axes>"
      ]
     },
     "metadata": {
      "needs_background": "light"
     },
     "output_type": "display_data"
    }
   ],
   "source": [
    "line = sns.barplot(data=linedf, x='year', y='deaths', hue= 'sex').set(\n",
    "    title = \"Deaths per Year by Sex\"\n",
    ")\n",
    "plt.legend(bbox_to_anchor = (1,1))"
   ]
  },
  {
   "cell_type": "markdown",
   "id": "000636b5-9594-4427-bff1-92981bf20ecd",
   "metadata": {},
   "source": [
    "It appears that women had a slightly higher death rate up until 2019, where men had a slightly higher death rate."
   ]
  },
  {
   "cell_type": "code",
   "execution_count": 59,
   "id": "8ce820b4-ca1e-4e97-b267-8895be790dfb",
   "metadata": {},
   "outputs": [],
   "source": [
    "linedf = numdf[['year','race_ethnicity','deaths']].copy()"
   ]
  },
  {
   "cell_type": "code",
   "execution_count": 60,
   "id": "0f41de61-a81b-487f-93dd-708a19b2d1d7",
   "metadata": {},
   "outputs": [],
   "source": [
    "linedf = linedf.groupby(['year','race_ethnicity'], as_index=False).agg({'deaths':'sum'})"
   ]
  },
  {
   "cell_type": "code",
   "execution_count": 61,
   "id": "4c5bf151-ec37-4bee-9bc7-e8bea84ba2ff",
   "metadata": {},
   "outputs": [
    {
     "data": {
      "text/html": [
       "<div>\n",
       "<style scoped>\n",
       "    .dataframe tbody tr th:only-of-type {\n",
       "        vertical-align: middle;\n",
       "    }\n",
       "\n",
       "    .dataframe tbody tr th {\n",
       "        vertical-align: top;\n",
       "    }\n",
       "\n",
       "    .dataframe thead th {\n",
       "        text-align: right;\n",
       "    }\n",
       "</style>\n",
       "<table border=\"1\" class=\"dataframe\">\n",
       "  <thead>\n",
       "    <tr style=\"text-align: right;\">\n",
       "      <th></th>\n",
       "      <th>year</th>\n",
       "      <th>race_ethnicity</th>\n",
       "      <th>deaths</th>\n",
       "    </tr>\n",
       "  </thead>\n",
       "  <tbody>\n",
       "    <tr>\n",
       "      <th>0</th>\n",
       "      <td>2007</td>\n",
       "      <td>Asian and Pacific Islander</td>\n",
       "      <td>2874</td>\n",
       "    </tr>\n",
       "    <tr>\n",
       "      <th>1</th>\n",
       "      <td>2007</td>\n",
       "      <td>Hispanic</td>\n",
       "      <td>8785</td>\n",
       "    </tr>\n",
       "    <tr>\n",
       "      <th>2</th>\n",
       "      <td>2007</td>\n",
       "      <td>Non-Hispanic Black</td>\n",
       "      <td>14258</td>\n",
       "    </tr>\n",
       "    <tr>\n",
       "      <th>3</th>\n",
       "      <td>2007</td>\n",
       "      <td>Non-Hispanic White</td>\n",
       "      <td>27479</td>\n",
       "    </tr>\n",
       "    <tr>\n",
       "      <th>4</th>\n",
       "      <td>2008</td>\n",
       "      <td>Asian and Pacific Islander</td>\n",
       "      <td>2971</td>\n",
       "    </tr>\n",
       "    <tr>\n",
       "      <th>5</th>\n",
       "      <td>2008</td>\n",
       "      <td>Hispanic</td>\n",
       "      <td>9329</td>\n",
       "    </tr>\n",
       "    <tr>\n",
       "      <th>6</th>\n",
       "      <td>2008</td>\n",
       "      <td>Non-Hispanic Black</td>\n",
       "      <td>14006</td>\n",
       "    </tr>\n",
       "    <tr>\n",
       "      <th>7</th>\n",
       "      <td>2008</td>\n",
       "      <td>Non-Hispanic White</td>\n",
       "      <td>27131</td>\n",
       "    </tr>\n",
       "    <tr>\n",
       "      <th>8</th>\n",
       "      <td>2009</td>\n",
       "      <td>Asian and Pacific Islander</td>\n",
       "      <td>3035</td>\n",
       "    </tr>\n",
       "    <tr>\n",
       "      <th>9</th>\n",
       "      <td>2009</td>\n",
       "      <td>Hispanic</td>\n",
       "      <td>9178</td>\n",
       "    </tr>\n",
       "    <tr>\n",
       "      <th>10</th>\n",
       "      <td>2009</td>\n",
       "      <td>Non-Hispanic Black</td>\n",
       "      <td>13775</td>\n",
       "    </tr>\n",
       "    <tr>\n",
       "      <th>11</th>\n",
       "      <td>2009</td>\n",
       "      <td>Non-Hispanic White</td>\n",
       "      <td>26210</td>\n",
       "    </tr>\n",
       "    <tr>\n",
       "      <th>12</th>\n",
       "      <td>2010</td>\n",
       "      <td>Asian and Pacific Islander</td>\n",
       "      <td>3157</td>\n",
       "    </tr>\n",
       "    <tr>\n",
       "      <th>13</th>\n",
       "      <td>2010</td>\n",
       "      <td>Hispanic</td>\n",
       "      <td>9340</td>\n",
       "    </tr>\n",
       "    <tr>\n",
       "      <th>14</th>\n",
       "      <td>2010</td>\n",
       "      <td>Non-Hispanic Black</td>\n",
       "      <td>13637</td>\n",
       "    </tr>\n",
       "    <tr>\n",
       "      <th>15</th>\n",
       "      <td>2010</td>\n",
       "      <td>Non-Hispanic White</td>\n",
       "      <td>25790</td>\n",
       "    </tr>\n",
       "    <tr>\n",
       "      <th>16</th>\n",
       "      <td>2011</td>\n",
       "      <td>Asian and Pacific Islander</td>\n",
       "      <td>3341</td>\n",
       "    </tr>\n",
       "    <tr>\n",
       "      <th>17</th>\n",
       "      <td>2011</td>\n",
       "      <td>Hispanic</td>\n",
       "      <td>9391</td>\n",
       "    </tr>\n",
       "    <tr>\n",
       "      <th>18</th>\n",
       "      <td>2011</td>\n",
       "      <td>Non-Hispanic Black</td>\n",
       "      <td>13910</td>\n",
       "    </tr>\n",
       "    <tr>\n",
       "      <th>19</th>\n",
       "      <td>2011</td>\n",
       "      <td>Non-Hispanic White</td>\n",
       "      <td>25549</td>\n",
       "    </tr>\n",
       "    <tr>\n",
       "      <th>20</th>\n",
       "      <td>2012</td>\n",
       "      <td>Asian and Pacific Islander</td>\n",
       "      <td>3446</td>\n",
       "    </tr>\n",
       "    <tr>\n",
       "      <th>21</th>\n",
       "      <td>2012</td>\n",
       "      <td>Hispanic</td>\n",
       "      <td>9420</td>\n",
       "    </tr>\n",
       "    <tr>\n",
       "      <th>22</th>\n",
       "      <td>2012</td>\n",
       "      <td>Non-Hispanic Black</td>\n",
       "      <td>13864</td>\n",
       "    </tr>\n",
       "    <tr>\n",
       "      <th>23</th>\n",
       "      <td>2012</td>\n",
       "      <td>Non-Hispanic White</td>\n",
       "      <td>24904</td>\n",
       "    </tr>\n",
       "    <tr>\n",
       "      <th>24</th>\n",
       "      <td>2013</td>\n",
       "      <td>Asian and Pacific Islander</td>\n",
       "      <td>3651</td>\n",
       "    </tr>\n",
       "    <tr>\n",
       "      <th>25</th>\n",
       "      <td>2013</td>\n",
       "      <td>Hispanic</td>\n",
       "      <td>9672</td>\n",
       "    </tr>\n",
       "    <tr>\n",
       "      <th>26</th>\n",
       "      <td>2013</td>\n",
       "      <td>Non-Hispanic Black</td>\n",
       "      <td>13911</td>\n",
       "    </tr>\n",
       "    <tr>\n",
       "      <th>27</th>\n",
       "      <td>2013</td>\n",
       "      <td>Non-Hispanic White</td>\n",
       "      <td>24891</td>\n",
       "    </tr>\n",
       "    <tr>\n",
       "      <th>28</th>\n",
       "      <td>2014</td>\n",
       "      <td>Asian and Pacific Islander</td>\n",
       "      <td>3880</td>\n",
       "    </tr>\n",
       "    <tr>\n",
       "      <th>29</th>\n",
       "      <td>2014</td>\n",
       "      <td>Hispanic</td>\n",
       "      <td>9687</td>\n",
       "    </tr>\n",
       "    <tr>\n",
       "      <th>30</th>\n",
       "      <td>2014</td>\n",
       "      <td>Non-Hispanic Black</td>\n",
       "      <td>13755</td>\n",
       "    </tr>\n",
       "    <tr>\n",
       "      <th>31</th>\n",
       "      <td>2014</td>\n",
       "      <td>Non-Hispanic White</td>\n",
       "      <td>24533</td>\n",
       "    </tr>\n",
       "    <tr>\n",
       "      <th>32</th>\n",
       "      <td>2019</td>\n",
       "      <td>Asian and Pacific Islander</td>\n",
       "      <td>4598</td>\n",
       "    </tr>\n",
       "    <tr>\n",
       "      <th>33</th>\n",
       "      <td>2019</td>\n",
       "      <td>Hispanic</td>\n",
       "      <td>11260</td>\n",
       "    </tr>\n",
       "    <tr>\n",
       "      <th>34</th>\n",
       "      <td>2019</td>\n",
       "      <td>Non-Hispanic Black</td>\n",
       "      <td>14713</td>\n",
       "    </tr>\n",
       "    <tr>\n",
       "      <th>35</th>\n",
       "      <td>2019</td>\n",
       "      <td>Non-Hispanic White</td>\n",
       "      <td>22635</td>\n",
       "    </tr>\n",
       "    <tr>\n",
       "      <th>36</th>\n",
       "      <td>2019</td>\n",
       "      <td>Not Stated/Unknown</td>\n",
       "      <td>854</td>\n",
       "    </tr>\n",
       "  </tbody>\n",
       "</table>\n",
       "</div>"
      ],
      "text/plain": [
       "    year              race_ethnicity  deaths\n",
       "0   2007  Asian and Pacific Islander    2874\n",
       "1   2007                    Hispanic    8785\n",
       "2   2007          Non-Hispanic Black   14258\n",
       "3   2007          Non-Hispanic White   27479\n",
       "4   2008  Asian and Pacific Islander    2971\n",
       "5   2008                    Hispanic    9329\n",
       "6   2008          Non-Hispanic Black   14006\n",
       "7   2008          Non-Hispanic White   27131\n",
       "8   2009  Asian and Pacific Islander    3035\n",
       "9   2009                    Hispanic    9178\n",
       "10  2009          Non-Hispanic Black   13775\n",
       "11  2009          Non-Hispanic White   26210\n",
       "12  2010  Asian and Pacific Islander    3157\n",
       "13  2010                    Hispanic    9340\n",
       "14  2010          Non-Hispanic Black   13637\n",
       "15  2010          Non-Hispanic White   25790\n",
       "16  2011  Asian and Pacific Islander    3341\n",
       "17  2011                    Hispanic    9391\n",
       "18  2011          Non-Hispanic Black   13910\n",
       "19  2011          Non-Hispanic White   25549\n",
       "20  2012  Asian and Pacific Islander    3446\n",
       "21  2012                    Hispanic    9420\n",
       "22  2012          Non-Hispanic Black   13864\n",
       "23  2012          Non-Hispanic White   24904\n",
       "24  2013  Asian and Pacific Islander    3651\n",
       "25  2013                    Hispanic    9672\n",
       "26  2013          Non-Hispanic Black   13911\n",
       "27  2013          Non-Hispanic White   24891\n",
       "28  2014  Asian and Pacific Islander    3880\n",
       "29  2014                    Hispanic    9687\n",
       "30  2014          Non-Hispanic Black   13755\n",
       "31  2014          Non-Hispanic White   24533\n",
       "32  2019  Asian and Pacific Islander    4598\n",
       "33  2019                    Hispanic   11260\n",
       "34  2019          Non-Hispanic Black   14713\n",
       "35  2019          Non-Hispanic White   22635\n",
       "36  2019          Not Stated/Unknown     854"
      ]
     },
     "execution_count": 61,
     "metadata": {},
     "output_type": "execute_result"
    }
   ],
   "source": [
    "linedf"
   ]
  },
  {
   "cell_type": "code",
   "execution_count": 62,
   "id": "4d92f7d0-a824-4d31-b44f-75570935cfa1",
   "metadata": {},
   "outputs": [
    {
     "data": {
      "text/plain": [
       "<matplotlib.legend.Legend at 0x1f5e7541a90>"
      ]
     },
     "execution_count": 62,
     "metadata": {},
     "output_type": "execute_result"
    },
    {
     "data": {
      "image/png": "[encoded data removed]",
      "text/plain": [
       "<Figure size 432x288 with 1 Axes>"
      ]
     },
     "metadata": {
      "needs_background": "light"
     },
     "output_type": "display_data"
    }
   ],
   "source": [
    "line = sns.barplot(data=linedf, x='year', y='deaths', hue= 'race_ethnicity').set(\n",
    "    title = \"Deaths per Year by Race/Ethnicity\"\n",
    ")\n",
    "plt.legend(bbox_to_anchor = (1,1))"
   ]
  },
  {
   "cell_type": "markdown",
   "id": "e67a6399-0169-4a56-b697-a3e966c841a8",
   "metadata": {},
   "source": [
    "There seems to be a relatively consitent distribution of deaths accross the different ethnicities. Notably, 2019 includes deaths for unknown and not stated ethnicities, which do not appear in the other years."
   ]
  },
  {
   "cell_type": "markdown",
   "id": "0727019c-b0b6-41fb-ba12-a1fe2b60f1e9",
   "metadata": {},
   "source": [
    "# Death Rate and Age Adjusted Death Rate"
   ]
  },
  {
   "cell_type": "markdown",
   "id": "4940643c-a0de-4f1c-ac14-9da1b7edc014",
   "metadata": {},
   "source": [
    "Because we know the equation used to calculate to death rate from the number of deaths and population, we can reverse engineer an approximation of the population. Without the original population data, it is impossible to verify the accuarcy of the reverse engineered data, so it can only be used to give us a rough impression of deathrates accross the various categories."
   ]
  },
  {
   "cell_type": "code",
   "execution_count": 63,
   "id": "af3ce3e2-64a3-4cc9-b665-66ba630c36ea",
   "metadata": {},
   "outputs": [],
   "source": [
    "def calculate_pop(dataframe):\n",
    "    for i in range(dataframe.shape[0]):\n",
    "        data = dataframe.iloc[i]\n",
    "        yield np.int64((data['deaths'] * 100000) / data['death_rate'])"
   ]
  },
  {
   "cell_type": "code",
   "execution_count": 64,
   "id": "9122d62d-9fa7-4bc2-a655-790e723b3b8f",
   "metadata": {},
   "outputs": [],
   "source": [
    "numdf.insert(7, \"population\", [*calculate_pop(numdf)])"
   ]
  },
  {
   "cell_type": "code",
   "execution_count": 65,
   "id": "c028e223-1c4c-40cd-a2bb-7506bef99490",
   "metadata": {},
   "outputs": [
    {
     "data": {
      "text/html": [
       "<div>\n",
       "<style scoped>\n",
       "    .dataframe tbody tr th:only-of-type {\n",
       "        vertical-align: middle;\n",
       "    }\n",
       "\n",
       "    .dataframe tbody tr th {\n",
       "        vertical-align: top;\n",
       "    }\n",
       "\n",
       "    .dataframe thead th {\n",
       "        text-align: right;\n",
       "    }\n",
       "</style>\n",
       "<table border=\"1\" class=\"dataframe\">\n",
       "  <thead>\n",
       "    <tr style=\"text-align: right;\">\n",
       "      <th></th>\n",
       "      <th>year</th>\n",
       "      <th>leading_cause</th>\n",
       "      <th>sex</th>\n",
       "      <th>race_ethnicity</th>\n",
       "      <th>deaths</th>\n",
       "      <th>death_rate</th>\n",
       "      <th>age_adjusted_death_rate</th>\n",
       "      <th>population</th>\n",
       "    </tr>\n",
       "  </thead>\n",
       "  <tbody>\n",
       "    <tr>\n",
       "      <th>1</th>\n",
       "      <td>2013</td>\n",
       "      <td>Influenza  and Pneumonia</td>\n",
       "      <td>F</td>\n",
       "      <td>Hispanic</td>\n",
       "      <td>204</td>\n",
       "      <td>16.300000</td>\n",
       "      <td>18.500000</td>\n",
       "      <td>1251533</td>\n",
       "    </tr>\n",
       "    <tr>\n",
       "      <th>4</th>\n",
       "      <td>2014</td>\n",
       "      <td>Cerebrovascular Disease</td>\n",
       "      <td>F</td>\n",
       "      <td>Non-Hispanic White</td>\n",
       "      <td>418</td>\n",
       "      <td>29.500000</td>\n",
       "      <td>15.600000</td>\n",
       "      <td>1416949</td>\n",
       "    </tr>\n",
       "    <tr>\n",
       "      <th>5</th>\n",
       "      <td>2009</td>\n",
       "      <td>Essential Hypertension and Renal Diseases</td>\n",
       "      <td>M</td>\n",
       "      <td>Asian and Pacific Islander</td>\n",
       "      <td>26</td>\n",
       "      <td>5.100000</td>\n",
       "      <td>7.200000</td>\n",
       "      <td>509803</td>\n",
       "    </tr>\n",
       "    <tr>\n",
       "      <th>6</th>\n",
       "      <td>2013</td>\n",
       "      <td>Influenza  and Pneumonia</td>\n",
       "      <td>M</td>\n",
       "      <td>Non-Hispanic White</td>\n",
       "      <td>618</td>\n",
       "      <td>45.900000</td>\n",
       "      <td>36.700000</td>\n",
       "      <td>1346405</td>\n",
       "    </tr>\n",
       "    <tr>\n",
       "      <th>7</th>\n",
       "      <td>2007</td>\n",
       "      <td>Assault</td>\n",
       "      <td>M</td>\n",
       "      <td>Non-Hispanic Black</td>\n",
       "      <td>267</td>\n",
       "      <td>31.300000</td>\n",
       "      <td>31.100000</td>\n",
       "      <td>853035</td>\n",
       "    </tr>\n",
       "    <tr>\n",
       "      <th>...</th>\n",
       "      <td>...</td>\n",
       "      <td>...</td>\n",
       "      <td>...</td>\n",
       "      <td>...</td>\n",
       "      <td>...</td>\n",
       "      <td>...</td>\n",
       "      <td>...</td>\n",
       "      <td>...</td>\n",
       "    </tr>\n",
       "    <tr>\n",
       "      <th>1271</th>\n",
       "      <td>2019</td>\n",
       "      <td>Influenza  and Pneumonia</td>\n",
       "      <td>F</td>\n",
       "      <td>Not Stated/Unknown</td>\n",
       "      <td>8</td>\n",
       "      <td>8.844177</td>\n",
       "      <td>12.147786</td>\n",
       "      <td>90455</td>\n",
       "    </tr>\n",
       "    <tr>\n",
       "      <th>1272</th>\n",
       "      <td>2019</td>\n",
       "      <td>Certain Conditions originating in the Perinata...</td>\n",
       "      <td>F</td>\n",
       "      <td>Not Stated/Unknown</td>\n",
       "      <td>7</td>\n",
       "      <td>7.738655</td>\n",
       "      <td>6.390794</td>\n",
       "      <td>90454</td>\n",
       "    </tr>\n",
       "    <tr>\n",
       "      <th>1273</th>\n",
       "      <td>2019</td>\n",
       "      <td>Mental and Behavioral Disorders due to Acciden...</td>\n",
       "      <td>F</td>\n",
       "      <td>Not Stated/Unknown</td>\n",
       "      <td>5</td>\n",
       "      <td>5.527610</td>\n",
       "      <td>6.724041</td>\n",
       "      <td>90455</td>\n",
       "    </tr>\n",
       "    <tr>\n",
       "      <th>1274</th>\n",
       "      <td>2019</td>\n",
       "      <td>Intentional Self-Harm</td>\n",
       "      <td>F</td>\n",
       "      <td>Not Stated/Unknown</td>\n",
       "      <td>5</td>\n",
       "      <td>5.527610</td>\n",
       "      <td>6.979220</td>\n",
       "      <td>90455</td>\n",
       "    </tr>\n",
       "    <tr>\n",
       "      <th>1275</th>\n",
       "      <td>2019</td>\n",
       "      <td>All Other Causes</td>\n",
       "      <td>F</td>\n",
       "      <td>Not Stated/Unknown</td>\n",
       "      <td>64</td>\n",
       "      <td>70.753413</td>\n",
       "      <td>88.791926</td>\n",
       "      <td>90454</td>\n",
       "    </tr>\n",
       "  </tbody>\n",
       "</table>\n",
       "<p>819 rows × 8 columns</p>\n",
       "</div>"
      ],
      "text/plain": [
       "      year                                      leading_cause sex  \\\n",
       "1     2013                           Influenza  and Pneumonia   F   \n",
       "4     2014                            Cerebrovascular Disease   F   \n",
       "5     2009          Essential Hypertension and Renal Diseases   M   \n",
       "6     2013                           Influenza  and Pneumonia   M   \n",
       "7     2007                                            Assault   M   \n",
       "...    ...                                                ...  ..   \n",
       "1271  2019                           Influenza  and Pneumonia   F   \n",
       "1272  2019  Certain Conditions originating in the Perinata...   F   \n",
       "1273  2019  Mental and Behavioral Disorders due to Acciden...   F   \n",
       "1274  2019                              Intentional Self-Harm   F   \n",
       "1275  2019                                   All Other Causes   F   \n",
       "\n",
       "                  race_ethnicity  deaths  death_rate  age_adjusted_death_rate  \\\n",
       "1                       Hispanic     204   16.300000                18.500000   \n",
       "4             Non-Hispanic White     418   29.500000                15.600000   \n",
       "5     Asian and Pacific Islander      26    5.100000                 7.200000   \n",
       "6             Non-Hispanic White     618   45.900000                36.700000   \n",
       "7             Non-Hispanic Black     267   31.300000                31.100000   \n",
       "...                          ...     ...         ...                      ...   \n",
       "1271          Not Stated/Unknown       8    8.844177                12.147786   \n",
       "1272          Not Stated/Unknown       7    7.738655                 6.390794   \n",
       "1273          Not Stated/Unknown       5    5.527610                 6.724041   \n",
       "1274          Not Stated/Unknown       5    5.527610                 6.979220   \n",
       "1275          Not Stated/Unknown      64   70.753413                88.791926   \n",
       "\n",
       "      population  \n",
       "1        1251533  \n",
       "4        1416949  \n",
       "5         509803  \n",
       "6        1346405  \n",
       "7         853035  \n",
       "...          ...  \n",
       "1271       90455  \n",
       "1272       90454  \n",
       "1273       90455  \n",
       "1274       90455  \n",
       "1275       90454  \n",
       "\n",
       "[819 rows x 8 columns]"
      ]
     },
     "execution_count": 65,
     "metadata": {},
     "output_type": "execute_result"
    }
   ],
   "source": [
    "numdf"
   ]
  },
  {
   "cell_type": "markdown",
   "id": "fb0218be-4f6b-4a3f-b25f-c3109b3ade30",
   "metadata": {},
   "source": [
    "Here we have added another column to our dataframe containing the calculated population of the given category. Due to rounding errors there is a variation of plus or minus one for the population within a calculation. With this new information we will be able to have estimates of the death rates across larger populations."
   ]
  },
  {
   "cell_type": "code",
   "execution_count": 66,
   "id": "ad0643bb-89f7-458e-a396-7f071e532335",
   "metadata": {},
   "outputs": [],
   "source": [
    "def calc_death_rate(dataframe):\n",
    "    for i in range(dataframe.shape[0]):\n",
    "        data = dataframe.iloc[i]\n",
    "        yield (data['deaths'] / data['population']) * 100000"
   ]
  },
  {
   "cell_type": "code",
   "execution_count": 67,
   "id": "f05ca6e2-20ab-42d3-bf8b-24b1039d24d9",
   "metadata": {},
   "outputs": [],
   "source": [
    "linedf = numdf[['year','sex','race_ethnicity','deaths','population']].copy()"
   ]
  },
  {
   "cell_type": "code",
   "execution_count": 68,
   "id": "9639cf77-e677-4a65-a913-08f3a4db5bdd",
   "metadata": {},
   "outputs": [],
   "source": [
    "linedf = linedf.groupby(['year','sex','race_ethnicity'], as_index=False).agg({'deaths':'sum','population':'mean'})"
   ]
  },
  {
   "cell_type": "code",
   "execution_count": 69,
   "id": "e21fafc1-a55b-4589-96a1-30b2e2a12328",
   "metadata": {},
   "outputs": [],
   "source": [
    "linedf['population'] = [math.floor(x) for x in linedf['population']]"
   ]
  },
  {
   "cell_type": "code",
   "execution_count": 70,
   "id": "1e894a78-acc5-4d53-9690-8c526546c3a8",
   "metadata": {},
   "outputs": [],
   "source": [
    "linedf = linedf[['year','deaths','population']].copy()"
   ]
  },
  {
   "cell_type": "code",
   "execution_count": 71,
   "id": "7945e9cb-116c-4821-b5fd-cc001a477b0b",
   "metadata": {},
   "outputs": [],
   "source": [
    "linedf = linedf.groupby(['year'], as_index=False).agg({'deaths':'sum','population':'sum'})"
   ]
  },
  {
   "cell_type": "code",
   "execution_count": 72,
   "id": "185ad756-ffd3-4c52-8430-9b49d6eb6fd1",
   "metadata": {},
   "outputs": [],
   "source": [
    "linedf.insert(2, \"death_rate\", [*calc_death_rate(linedf)])"
   ]
  },
  {
   "cell_type": "code",
   "execution_count": 73,
   "id": "d797014d-5543-4be2-ba96-d7b44c515855",
   "metadata": {},
   "outputs": [
    {
     "data": {
      "text/html": [
       "<div>\n",
       "<style scoped>\n",
       "    .dataframe tbody tr th:only-of-type {\n",
       "        vertical-align: middle;\n",
       "    }\n",
       "\n",
       "    .dataframe tbody tr th {\n",
       "        vertical-align: top;\n",
       "    }\n",
       "\n",
       "    .dataframe thead th {\n",
       "        text-align: right;\n",
       "    }\n",
       "</style>\n",
       "<table border=\"1\" class=\"dataframe\">\n",
       "  <thead>\n",
       "    <tr style=\"text-align: right;\">\n",
       "      <th></th>\n",
       "      <th>year</th>\n",
       "      <th>deaths</th>\n",
       "      <th>death_rate</th>\n",
       "      <th>population</th>\n",
       "    </tr>\n",
       "  </thead>\n",
       "  <tbody>\n",
       "    <tr>\n",
       "      <th>0</th>\n",
       "      <td>2007</td>\n",
       "      <td>53396</td>\n",
       "      <td>673.195301</td>\n",
       "      <td>7931725</td>\n",
       "    </tr>\n",
       "    <tr>\n",
       "      <th>1</th>\n",
       "      <td>2008</td>\n",
       "      <td>53437</td>\n",
       "      <td>668.520297</td>\n",
       "      <td>7993325</td>\n",
       "    </tr>\n",
       "    <tr>\n",
       "      <th>2</th>\n",
       "      <td>2009</td>\n",
       "      <td>52198</td>\n",
       "      <td>647.833355</td>\n",
       "      <td>8057319</td>\n",
       "    </tr>\n",
       "    <tr>\n",
       "      <th>3</th>\n",
       "      <td>2010</td>\n",
       "      <td>51924</td>\n",
       "      <td>639.986353</td>\n",
       "      <td>8113298</td>\n",
       "    </tr>\n",
       "    <tr>\n",
       "      <th>4</th>\n",
       "      <td>2011</td>\n",
       "      <td>52191</td>\n",
       "      <td>642.155633</td>\n",
       "      <td>8127469</td>\n",
       "    </tr>\n",
       "    <tr>\n",
       "      <th>5</th>\n",
       "      <td>2012</td>\n",
       "      <td>51634</td>\n",
       "      <td>630.584509</td>\n",
       "      <td>8188276</td>\n",
       "    </tr>\n",
       "    <tr>\n",
       "      <th>6</th>\n",
       "      <td>2013</td>\n",
       "      <td>52125</td>\n",
       "      <td>631.368341</td>\n",
       "      <td>8255878</td>\n",
       "    </tr>\n",
       "    <tr>\n",
       "      <th>7</th>\n",
       "      <td>2014</td>\n",
       "      <td>51855</td>\n",
       "      <td>622.279067</td>\n",
       "      <td>8333078</td>\n",
       "    </tr>\n",
       "    <tr>\n",
       "      <th>8</th>\n",
       "      <td>2019</td>\n",
       "      <td>54060</td>\n",
       "      <td>648.449700</td>\n",
       "      <td>8336807</td>\n",
       "    </tr>\n",
       "  </tbody>\n",
       "</table>\n",
       "</div>"
      ],
      "text/plain": [
       "   year  deaths  death_rate  population\n",
       "0  2007   53396  673.195301     7931725\n",
       "1  2008   53437  668.520297     7993325\n",
       "2  2009   52198  647.833355     8057319\n",
       "3  2010   51924  639.986353     8113298\n",
       "4  2011   52191  642.155633     8127469\n",
       "5  2012   51634  630.584509     8188276\n",
       "6  2013   52125  631.368341     8255878\n",
       "7  2014   51855  622.279067     8333078\n",
       "8  2019   54060  648.449700     8336807"
      ]
     },
     "execution_count": 73,
     "metadata": {},
     "output_type": "execute_result"
    }
   ],
   "source": [
    "linedf"
   ]
  },
  {
   "cell_type": "code",
   "execution_count": 74,
   "id": "de951048-fa39-40c4-9af1-84ac9530e76d",
   "metadata": {},
   "outputs": [
    {
     "data": {
      "image/png": "[encoded data removed]",
      "text/plain": [
       "<Figure size 432x288 with 1 Axes>"
      ]
     },
     "metadata": {
      "needs_background": "light"
     },
     "output_type": "display_data"
    }
   ],
   "source": [
    "plot = sns.lineplot(x=linedf['year'], y=linedf['death_rate']).set(\n",
    "    title = 'Aggregate Gross Death Rates by Year'\n",
    ")"
   ]
  },
  {
   "cell_type": "markdown",
   "id": "cd26ae27-a543-4a21-aef9-5f2db263b916",
   "metadata": {},
   "source": [
    "After calculating the aggregate death rate and population for each year, we can see that the calculated population data is consitent with actual New York City population data. From the line graph that we have drawn, it appears that the death rate was trending downwards until 2014, then increased in 2019. This could have also resulted in changed data entry methods and standards in 2019. Note that these death rates are not age adjusted, so they may not match figures from other sources that use the more accurate age adjusted death rates."
   ]
  },
  {
   "cell_type": "code",
   "execution_count": 75,
   "id": "59c86d89-47d2-4b97-b40a-ff352fc6c000",
   "metadata": {},
   "outputs": [],
   "source": [
    "linedf = numdf[['year','sex','race_ethnicity','deaths','population']].copy()"
   ]
  },
  {
   "cell_type": "code",
   "execution_count": 76,
   "id": "0b01040b-2f25-4082-80e8-f9a1595b6614",
   "metadata": {},
   "outputs": [],
   "source": [
    "linedf = linedf.groupby(['year','sex','race_ethnicity'], as_index=False).agg({'deaths':'sum','population':'mean'})"
   ]
  },
  {
   "cell_type": "code",
   "execution_count": 77,
   "id": "1535fe64-3a6c-4ea3-bddf-bab6823f6822",
   "metadata": {},
   "outputs": [],
   "source": [
    "linedf['population'] = [math.floor(x) for x in linedf['population']]"
   ]
  },
  {
   "cell_type": "code",
   "execution_count": 78,
   "id": "5c01edd8-0b2c-4bf6-9826-c80ff65b94b0",
   "metadata": {},
   "outputs": [],
   "source": [
    "linedf = linedf[['year','sex','deaths','population']].copy()"
   ]
  },
  {
   "cell_type": "code",
   "execution_count": 79,
   "id": "6320f9f7-bc49-4c1a-8f8d-e1eb44f60cf4",
   "metadata": {},
   "outputs": [],
   "source": [
    "linedf = linedf.groupby(['year', 'sex'], as_index=False).agg({'deaths':'sum','population':'sum'})"
   ]
  },
  {
   "cell_type": "code",
   "execution_count": 80,
   "id": "bd8cc225-e23d-470b-bb16-12a866db7dad",
   "metadata": {},
   "outputs": [],
   "source": [
    "linedf.insert(2, \"death_rate\", [*calc_death_rate(linedf)])"
   ]
  },
  {
   "cell_type": "code",
   "execution_count": 81,
   "id": "76a29056-e33e-4470-a67a-8aa4534e57ba",
   "metadata": {},
   "outputs": [
    {
     "data": {
      "text/html": [
       "<div>\n",
       "<style scoped>\n",
       "    .dataframe tbody tr th:only-of-type {\n",
       "        vertical-align: middle;\n",
       "    }\n",
       "\n",
       "    .dataframe tbody tr th {\n",
       "        vertical-align: top;\n",
       "    }\n",
       "\n",
       "    .dataframe thead th {\n",
       "        text-align: right;\n",
       "    }\n",
       "</style>\n",
       "<table border=\"1\" class=\"dataframe\">\n",
       "  <thead>\n",
       "    <tr style=\"text-align: right;\">\n",
       "      <th></th>\n",
       "      <th>year</th>\n",
       "      <th>sex</th>\n",
       "      <th>death_rate</th>\n",
       "      <th>deaths</th>\n",
       "      <th>population</th>\n",
       "    </tr>\n",
       "  </thead>\n",
       "  <tbody>\n",
       "    <tr>\n",
       "      <th>0</th>\n",
       "      <td>2007</td>\n",
       "      <td>F</td>\n",
       "      <td>659.613800</td>\n",
       "      <td>27493</td>\n",
       "      <td>4168045</td>\n",
       "    </tr>\n",
       "    <tr>\n",
       "      <th>1</th>\n",
       "      <td>2007</td>\n",
       "      <td>M</td>\n",
       "      <td>688.235982</td>\n",
       "      <td>25903</td>\n",
       "      <td>3763680</td>\n",
       "    </tr>\n",
       "    <tr>\n",
       "      <th>2</th>\n",
       "      <td>2008</td>\n",
       "      <td>F</td>\n",
       "      <td>655.274585</td>\n",
       "      <td>27505</td>\n",
       "      <td>4197477</td>\n",
       "    </tr>\n",
       "    <tr>\n",
       "      <th>3</th>\n",
       "      <td>2008</td>\n",
       "      <td>M</td>\n",
       "      <td>683.167503</td>\n",
       "      <td>25932</td>\n",
       "      <td>3795848</td>\n",
       "    </tr>\n",
       "    <tr>\n",
       "      <th>4</th>\n",
       "      <td>2009</td>\n",
       "      <td>F</td>\n",
       "      <td>630.315531</td>\n",
       "      <td>26659</td>\n",
       "      <td>4229469</td>\n",
       "    </tr>\n",
       "    <tr>\n",
       "      <th>5</th>\n",
       "      <td>2009</td>\n",
       "      <td>M</td>\n",
       "      <td>667.189153</td>\n",
       "      <td>25539</td>\n",
       "      <td>3827850</td>\n",
       "    </tr>\n",
       "    <tr>\n",
       "      <th>6</th>\n",
       "      <td>2010</td>\n",
       "      <td>F</td>\n",
       "      <td>620.210300</td>\n",
       "      <td>26414</td>\n",
       "      <td>4258878</td>\n",
       "    </tr>\n",
       "    <tr>\n",
       "      <th>7</th>\n",
       "      <td>2010</td>\n",
       "      <td>M</td>\n",
       "      <td>661.837579</td>\n",
       "      <td>25510</td>\n",
       "      <td>3854420</td>\n",
       "    </tr>\n",
       "    <tr>\n",
       "      <th>8</th>\n",
       "      <td>2011</td>\n",
       "      <td>F</td>\n",
       "      <td>630.450824</td>\n",
       "      <td>26853</td>\n",
       "      <td>4259333</td>\n",
       "    </tr>\n",
       "    <tr>\n",
       "      <th>9</th>\n",
       "      <td>2011</td>\n",
       "      <td>M</td>\n",
       "      <td>655.044187</td>\n",
       "      <td>25338</td>\n",
       "      <td>3868136</td>\n",
       "    </tr>\n",
       "    <tr>\n",
       "      <th>10</th>\n",
       "      <td>2012</td>\n",
       "      <td>F</td>\n",
       "      <td>616.573089</td>\n",
       "      <td>26417</td>\n",
       "      <td>4284488</td>\n",
       "    </tr>\n",
       "    <tr>\n",
       "      <th>11</th>\n",
       "      <td>2012</td>\n",
       "      <td>M</td>\n",
       "      <td>645.962332</td>\n",
       "      <td>25217</td>\n",
       "      <td>3903788</td>\n",
       "    </tr>\n",
       "    <tr>\n",
       "      <th>12</th>\n",
       "      <td>2013</td>\n",
       "      <td>F</td>\n",
       "      <td>616.486930</td>\n",
       "      <td>26609</td>\n",
       "      <td>4316231</td>\n",
       "    </tr>\n",
       "    <tr>\n",
       "      <th>13</th>\n",
       "      <td>2013</td>\n",
       "      <td>M</td>\n",
       "      <td>647.672241</td>\n",
       "      <td>25516</td>\n",
       "      <td>3939647</td>\n",
       "    </tr>\n",
       "    <tr>\n",
       "      <th>14</th>\n",
       "      <td>2014</td>\n",
       "      <td>F</td>\n",
       "      <td>606.259619</td>\n",
       "      <td>26420</td>\n",
       "      <td>4357869</td>\n",
       "    </tr>\n",
       "    <tr>\n",
       "      <th>15</th>\n",
       "      <td>2014</td>\n",
       "      <td>M</td>\n",
       "      <td>639.840572</td>\n",
       "      <td>25435</td>\n",
       "      <td>3975209</td>\n",
       "    </tr>\n",
       "    <tr>\n",
       "      <th>16</th>\n",
       "      <td>2019</td>\n",
       "      <td>F</td>\n",
       "      <td>611.351988</td>\n",
       "      <td>26645</td>\n",
       "      <td>4358373</td>\n",
       "    </tr>\n",
       "    <tr>\n",
       "      <th>17</th>\n",
       "      <td>2019</td>\n",
       "      <td>M</td>\n",
       "      <td>689.090230</td>\n",
       "      <td>27415</td>\n",
       "      <td>3978434</td>\n",
       "    </tr>\n",
       "  </tbody>\n",
       "</table>\n",
       "</div>"
      ],
      "text/plain": [
       "    year sex  death_rate  deaths  population\n",
       "0   2007   F  659.613800   27493     4168045\n",
       "1   2007   M  688.235982   25903     3763680\n",
       "2   2008   F  655.274585   27505     4197477\n",
       "3   2008   M  683.167503   25932     3795848\n",
       "4   2009   F  630.315531   26659     4229469\n",
       "5   2009   M  667.189153   25539     3827850\n",
       "6   2010   F  620.210300   26414     4258878\n",
       "7   2010   M  661.837579   25510     3854420\n",
       "8   2011   F  630.450824   26853     4259333\n",
       "9   2011   M  655.044187   25338     3868136\n",
       "10  2012   F  616.573089   26417     4284488\n",
       "11  2012   M  645.962332   25217     3903788\n",
       "12  2013   F  616.486930   26609     4316231\n",
       "13  2013   M  647.672241   25516     3939647\n",
       "14  2014   F  606.259619   26420     4357869\n",
       "15  2014   M  639.840572   25435     3975209\n",
       "16  2019   F  611.351988   26645     4358373\n",
       "17  2019   M  689.090230   27415     3978434"
      ]
     },
     "execution_count": 81,
     "metadata": {},
     "output_type": "execute_result"
    }
   ],
   "source": [
    "linedf"
   ]
  },
  {
   "cell_type": "code",
   "execution_count": 82,
   "id": "74539ebd-5530-495e-a170-8f5902319317",
   "metadata": {},
   "outputs": [
    {
     "data": {
      "text/plain": [
       "<matplotlib.legend.Legend at 0x1f5e74345b0>"
      ]
     },
     "execution_count": 82,
     "metadata": {},
     "output_type": "execute_result"
    },
    {
     "data": {
      "image/png": "[encoded data removed]",
      "text/plain": [
       "<Figure size 432x288 with 1 Axes>"
      ]
     },
     "metadata": {
      "needs_background": "light"
     },
     "output_type": "display_data"
    }
   ],
   "source": [
    "plot = sns.lineplot(x=linedf['year'], y=linedf['death_rate'], hue = linedf['sex']).set(\n",
    "    title = 'Aggregate Gross Death Rates by Year and Sex'\n",
    ")\n",
    "plt.legend(bbox_to_anchor = (1,1))"
   ]
  },
  {
   "cell_type": "markdown",
   "id": "e0ad25e4-fa65-4101-9579-b83c79583064",
   "metadata": {},
   "source": [
    "It appears that the male death rate is consitently higher than the female death rate. In particularly, it increased much more that the female death rate between 2014 and 2019."
   ]
  },
  {
   "cell_type": "code",
   "execution_count": 83,
   "id": "8edff628-25a7-42d2-8835-a37d6119735f",
   "metadata": {},
   "outputs": [],
   "source": [
    "linedf = numdf[['year','sex','race_ethnicity','deaths','population']].copy()"
   ]
  },
  {
   "cell_type": "code",
   "execution_count": 84,
   "id": "900a708b-e385-43bf-8171-1cc0190f5038",
   "metadata": {},
   "outputs": [],
   "source": [
    "linedf = linedf.groupby(['year','sex','race_ethnicity'], as_index=False).agg({'deaths':'sum','population':'mean'})"
   ]
  },
  {
   "cell_type": "code",
   "execution_count": 85,
   "id": "6d5dca33-7a8a-40de-88bd-23919434f18f",
   "metadata": {},
   "outputs": [],
   "source": [
    "linedf['population'] = [math.floor(x) for x in linedf['population']]"
   ]
  },
  {
   "cell_type": "code",
   "execution_count": 86,
   "id": "a423b53a-33b5-4eda-96b8-dd3d172b788e",
   "metadata": {},
   "outputs": [],
   "source": [
    "linedf = linedf[['year','race_ethnicity','deaths','population']].copy()"
   ]
  },
  {
   "cell_type": "code",
   "execution_count": 87,
   "id": "41762475-afa9-4f9a-9fd5-dc9bfba3ccaa",
   "metadata": {},
   "outputs": [],
   "source": [
    "linedf = linedf.groupby(['year', 'race_ethnicity'], as_index=False).agg({'deaths':'sum','population':'sum'})"
   ]
  },
  {
   "cell_type": "code",
   "execution_count": 88,
   "id": "9ec8d05c-47f5-48cf-8086-654226b9e25b",
   "metadata": {},
   "outputs": [],
   "source": [
    "linedf.insert(2, \"death_rate\", [*calc_death_rate(linedf)])"
   ]
  },
  {
   "cell_type": "code",
   "execution_count": 89,
   "id": "28a65de1-b08e-4854-baf7-df6122005979",
   "metadata": {},
   "outputs": [
    {
     "data": {
      "text/html": [
       "<div>\n",
       "<style scoped>\n",
       "    .dataframe tbody tr th:only-of-type {\n",
       "        vertical-align: middle;\n",
       "    }\n",
       "\n",
       "    .dataframe tbody tr th {\n",
       "        vertical-align: top;\n",
       "    }\n",
       "\n",
       "    .dataframe thead th {\n",
       "        text-align: right;\n",
       "    }\n",
       "</style>\n",
       "<table border=\"1\" class=\"dataframe\">\n",
       "  <thead>\n",
       "    <tr style=\"text-align: right;\">\n",
       "      <th></th>\n",
       "      <th>year</th>\n",
       "      <th>race_ethnicity</th>\n",
       "      <th>death_rate</th>\n",
       "      <th>deaths</th>\n",
       "      <th>population</th>\n",
       "    </tr>\n",
       "  </thead>\n",
       "  <tbody>\n",
       "    <tr>\n",
       "      <th>0</th>\n",
       "      <td>2007</td>\n",
       "      <td>Asian and Pacific Islander</td>\n",
       "      <td>287.695175</td>\n",
       "      <td>2874</td>\n",
       "      <td>998974</td>\n",
       "    </tr>\n",
       "    <tr>\n",
       "      <th>1</th>\n",
       "      <td>2007</td>\n",
       "      <td>Hispanic</td>\n",
       "      <td>389.113676</td>\n",
       "      <td>8785</td>\n",
       "      <td>2257695</td>\n",
       "    </tr>\n",
       "    <tr>\n",
       "      <th>2</th>\n",
       "      <td>2007</td>\n",
       "      <td>Non-Hispanic Black</td>\n",
       "      <td>749.093580</td>\n",
       "      <td>14258</td>\n",
       "      <td>1903367</td>\n",
       "    </tr>\n",
       "    <tr>\n",
       "      <th>3</th>\n",
       "      <td>2007</td>\n",
       "      <td>Non-Hispanic White</td>\n",
       "      <td>991.417147</td>\n",
       "      <td>27479</td>\n",
       "      <td>2771689</td>\n",
       "    </tr>\n",
       "    <tr>\n",
       "      <th>4</th>\n",
       "      <td>2008</td>\n",
       "      <td>Asian and Pacific Islander</td>\n",
       "      <td>287.686328</td>\n",
       "      <td>2971</td>\n",
       "      <td>1032722</td>\n",
       "    </tr>\n",
       "    <tr>\n",
       "      <th>5</th>\n",
       "      <td>2008</td>\n",
       "      <td>Hispanic</td>\n",
       "      <td>408.027054</td>\n",
       "      <td>9329</td>\n",
       "      <td>2286368</td>\n",
       "    </tr>\n",
       "    <tr>\n",
       "      <th>6</th>\n",
       "      <td>2008</td>\n",
       "      <td>Non-Hispanic Black</td>\n",
       "      <td>738.694769</td>\n",
       "      <td>14006</td>\n",
       "      <td>1896047</td>\n",
       "    </tr>\n",
       "    <tr>\n",
       "      <th>7</th>\n",
       "      <td>2008</td>\n",
       "      <td>Non-Hispanic White</td>\n",
       "      <td>976.571780</td>\n",
       "      <td>27131</td>\n",
       "      <td>2778188</td>\n",
       "    </tr>\n",
       "    <tr>\n",
       "      <th>8</th>\n",
       "      <td>2009</td>\n",
       "      <td>Asian and Pacific Islander</td>\n",
       "      <td>286.346688</td>\n",
       "      <td>3035</td>\n",
       "      <td>1059904</td>\n",
       "    </tr>\n",
       "    <tr>\n",
       "      <th>9</th>\n",
       "      <td>2009</td>\n",
       "      <td>Hispanic</td>\n",
       "      <td>395.731208</td>\n",
       "      <td>9178</td>\n",
       "      <td>2319251</td>\n",
       "    </tr>\n",
       "    <tr>\n",
       "      <th>10</th>\n",
       "      <td>2009</td>\n",
       "      <td>Non-Hispanic Black</td>\n",
       "      <td>726.470912</td>\n",
       "      <td>13775</td>\n",
       "      <td>1896153</td>\n",
       "    </tr>\n",
       "    <tr>\n",
       "      <th>11</th>\n",
       "      <td>2009</td>\n",
       "      <td>Non-Hispanic White</td>\n",
       "      <td>942.124240</td>\n",
       "      <td>26210</td>\n",
       "      <td>2782011</td>\n",
       "    </tr>\n",
       "    <tr>\n",
       "      <th>12</th>\n",
       "      <td>2010</td>\n",
       "      <td>Asian and Pacific Islander</td>\n",
       "      <td>291.605781</td>\n",
       "      <td>3157</td>\n",
       "      <td>1082626</td>\n",
       "    </tr>\n",
       "    <tr>\n",
       "      <th>13</th>\n",
       "      <td>2010</td>\n",
       "      <td>Hispanic</td>\n",
       "      <td>395.883993</td>\n",
       "      <td>9340</td>\n",
       "      <td>2359277</td>\n",
       "    </tr>\n",
       "    <tr>\n",
       "      <th>14</th>\n",
       "      <td>2010</td>\n",
       "      <td>Non-Hispanic Black</td>\n",
       "      <td>717.683582</td>\n",
       "      <td>13637</td>\n",
       "      <td>1900141</td>\n",
       "    </tr>\n",
       "    <tr>\n",
       "      <th>15</th>\n",
       "      <td>2010</td>\n",
       "      <td>Non-Hispanic White</td>\n",
       "      <td>930.625630</td>\n",
       "      <td>25790</td>\n",
       "      <td>2771254</td>\n",
       "    </tr>\n",
       "    <tr>\n",
       "      <th>16</th>\n",
       "      <td>2011</td>\n",
       "      <td>Asian and Pacific Islander</td>\n",
       "      <td>304.175517</td>\n",
       "      <td>3341</td>\n",
       "      <td>1098379</td>\n",
       "    </tr>\n",
       "    <tr>\n",
       "      <th>17</th>\n",
       "      <td>2011</td>\n",
       "      <td>Hispanic</td>\n",
       "      <td>395.027308</td>\n",
       "      <td>9391</td>\n",
       "      <td>2377304</td>\n",
       "    </tr>\n",
       "    <tr>\n",
       "      <th>18</th>\n",
       "      <td>2011</td>\n",
       "      <td>Non-Hispanic Black</td>\n",
       "      <td>732.117979</td>\n",
       "      <td>13910</td>\n",
       "      <td>1899967</td>\n",
       "    </tr>\n",
       "    <tr>\n",
       "      <th>19</th>\n",
       "      <td>2011</td>\n",
       "      <td>Non-Hispanic White</td>\n",
       "      <td>928.440424</td>\n",
       "      <td>25549</td>\n",
       "      <td>2751819</td>\n",
       "    </tr>\n",
       "    <tr>\n",
       "      <th>20</th>\n",
       "      <td>2012</td>\n",
       "      <td>Asian and Pacific Islander</td>\n",
       "      <td>306.770039</td>\n",
       "      <td>3446</td>\n",
       "      <td>1123317</td>\n",
       "    </tr>\n",
       "    <tr>\n",
       "      <th>21</th>\n",
       "      <td>2012</td>\n",
       "      <td>Hispanic</td>\n",
       "      <td>391.232732</td>\n",
       "      <td>9420</td>\n",
       "      <td>2407774</td>\n",
       "    </tr>\n",
       "    <tr>\n",
       "      <th>22</th>\n",
       "      <td>2012</td>\n",
       "      <td>Non-Hispanic Black</td>\n",
       "      <td>729.575158</td>\n",
       "      <td>13864</td>\n",
       "      <td>1900284</td>\n",
       "    </tr>\n",
       "    <tr>\n",
       "      <th>23</th>\n",
       "      <td>2012</td>\n",
       "      <td>Non-Hispanic White</td>\n",
       "      <td>903.333127</td>\n",
       "      <td>24904</td>\n",
       "      <td>2756901</td>\n",
       "    </tr>\n",
       "    <tr>\n",
       "      <th>24</th>\n",
       "      <td>2013</td>\n",
       "      <td>Asian and Pacific Islander</td>\n",
       "      <td>316.338343</td>\n",
       "      <td>3651</td>\n",
       "      <td>1154144</td>\n",
       "    </tr>\n",
       "    <tr>\n",
       "      <th>25</th>\n",
       "      <td>2013</td>\n",
       "      <td>Hispanic</td>\n",
       "      <td>397.986203</td>\n",
       "      <td>9672</td>\n",
       "      <td>2430235</td>\n",
       "    </tr>\n",
       "    <tr>\n",
       "      <th>26</th>\n",
       "      <td>2013</td>\n",
       "      <td>Non-Hispanic Black</td>\n",
       "      <td>730.786324</td>\n",
       "      <td>13911</td>\n",
       "      <td>1903566</td>\n",
       "    </tr>\n",
       "    <tr>\n",
       "      <th>27</th>\n",
       "      <td>2013</td>\n",
       "      <td>Non-Hispanic White</td>\n",
       "      <td>899.263096</td>\n",
       "      <td>24891</td>\n",
       "      <td>2767933</td>\n",
       "    </tr>\n",
       "    <tr>\n",
       "      <th>28</th>\n",
       "      <td>2014</td>\n",
       "      <td>Asian and Pacific Islander</td>\n",
       "      <td>323.907459</td>\n",
       "      <td>3880</td>\n",
       "      <td>1197873</td>\n",
       "    </tr>\n",
       "    <tr>\n",
       "      <th>29</th>\n",
       "      <td>2014</td>\n",
       "      <td>Hispanic</td>\n",
       "      <td>393.729271</td>\n",
       "      <td>9687</td>\n",
       "      <td>2460320</td>\n",
       "    </tr>\n",
       "    <tr>\n",
       "      <th>30</th>\n",
       "      <td>2014</td>\n",
       "      <td>Non-Hispanic Black</td>\n",
       "      <td>718.821039</td>\n",
       "      <td>13755</td>\n",
       "      <td>1913550</td>\n",
       "    </tr>\n",
       "    <tr>\n",
       "      <th>31</th>\n",
       "      <td>2014</td>\n",
       "      <td>Non-Hispanic White</td>\n",
       "      <td>888.447074</td>\n",
       "      <td>24533</td>\n",
       "      <td>2761335</td>\n",
       "    </tr>\n",
       "    <tr>\n",
       "      <th>32</th>\n",
       "      <td>2019</td>\n",
       "      <td>Asian and Pacific Islander</td>\n",
       "      <td>372.718135</td>\n",
       "      <td>4598</td>\n",
       "      <td>1233640</td>\n",
       "    </tr>\n",
       "    <tr>\n",
       "      <th>33</th>\n",
       "      <td>2019</td>\n",
       "      <td>Hispanic</td>\n",
       "      <td>464.600419</td>\n",
       "      <td>11260</td>\n",
       "      <td>2423588</td>\n",
       "    </tr>\n",
       "    <tr>\n",
       "      <th>34</th>\n",
       "      <td>2019</td>\n",
       "      <td>Non-Hispanic Black</td>\n",
       "      <td>805.818234</td>\n",
       "      <td>14713</td>\n",
       "      <td>1825846</td>\n",
       "    </tr>\n",
       "    <tr>\n",
       "      <th>35</th>\n",
       "      <td>2019</td>\n",
       "      <td>Non-Hispanic White</td>\n",
       "      <td>843.967913</td>\n",
       "      <td>22635</td>\n",
       "      <td>2681974</td>\n",
       "    </tr>\n",
       "    <tr>\n",
       "      <th>36</th>\n",
       "      <td>2019</td>\n",
       "      <td>Not Stated/Unknown</td>\n",
       "      <td>497.208298</td>\n",
       "      <td>854</td>\n",
       "      <td>171759</td>\n",
       "    </tr>\n",
       "  </tbody>\n",
       "</table>\n",
       "</div>"
      ],
      "text/plain": [
       "    year              race_ethnicity  death_rate  deaths  population\n",
       "0   2007  Asian and Pacific Islander  287.695175    2874      998974\n",
       "1   2007                    Hispanic  389.113676    8785     2257695\n",
       "2   2007          Non-Hispanic Black  749.093580   14258     1903367\n",
       "3   2007          Non-Hispanic White  991.417147   27479     2771689\n",
       "4   2008  Asian and Pacific Islander  287.686328    2971     1032722\n",
       "5   2008                    Hispanic  408.027054    9329     2286368\n",
       "6   2008          Non-Hispanic Black  738.694769   14006     1896047\n",
       "7   2008          Non-Hispanic White  976.571780   27131     2778188\n",
       "8   2009  Asian and Pacific Islander  286.346688    3035     1059904\n",
       "9   2009                    Hispanic  395.731208    9178     2319251\n",
       "10  2009          Non-Hispanic Black  726.470912   13775     1896153\n",
       "11  2009          Non-Hispanic White  942.124240   26210     2782011\n",
       "12  2010  Asian and Pacific Islander  291.605781    3157     1082626\n",
       "13  2010                    Hispanic  395.883993    9340     2359277\n",
       "14  2010          Non-Hispanic Black  717.683582   13637     1900141\n",
       "15  2010          Non-Hispanic White  930.625630   25790     2771254\n",
       "16  2011  Asian and Pacific Islander  304.175517    3341     1098379\n",
       "17  2011                    Hispanic  395.027308    9391     2377304\n",
       "18  2011          Non-Hispanic Black  732.117979   13910     1899967\n",
       "19  2011          Non-Hispanic White  928.440424   25549     2751819\n",
       "20  2012  Asian and Pacific Islander  306.770039    3446     1123317\n",
       "21  2012                    Hispanic  391.232732    9420     2407774\n",
       "22  2012          Non-Hispanic Black  729.575158   13864     1900284\n",
       "23  2012          Non-Hispanic White  903.333127   24904     2756901\n",
       "24  2013  Asian and Pacific Islander  316.338343    3651     1154144\n",
       "25  2013                    Hispanic  397.986203    9672     2430235\n",
       "26  2013          Non-Hispanic Black  730.786324   13911     1903566\n",
       "27  2013          Non-Hispanic White  899.263096   24891     2767933\n",
       "28  2014  Asian and Pacific Islander  323.907459    3880     1197873\n",
       "29  2014                    Hispanic  393.729271    9687     2460320\n",
       "30  2014          Non-Hispanic Black  718.821039   13755     1913550\n",
       "31  2014          Non-Hispanic White  888.447074   24533     2761335\n",
       "32  2019  Asian and Pacific Islander  372.718135    4598     1233640\n",
       "33  2019                    Hispanic  464.600419   11260     2423588\n",
       "34  2019          Non-Hispanic Black  805.818234   14713     1825846\n",
       "35  2019          Non-Hispanic White  843.967913   22635     2681974\n",
       "36  2019          Not Stated/Unknown  497.208298     854      171759"
      ]
     },
     "execution_count": 89,
     "metadata": {},
     "output_type": "execute_result"
    }
   ],
   "source": [
    "linedf"
   ]
  },
  {
   "cell_type": "code",
   "execution_count": 92,
   "id": "a214c712-c4f0-4d46-8c47-baf55b597158",
   "metadata": {},
   "outputs": [
    {
     "data": {
      "text/plain": [
       "<matplotlib.legend.Legend at 0x1f5e879a670>"
      ]
     },
     "execution_count": 92,
     "metadata": {},
     "output_type": "execute_result"
    },
    {
     "data": {
      "image/png": "[encoded data removed]",
      "text/plain": [
       "<Figure size 432x288 with 1 Axes>"
      ]
     },
     "metadata": {
      "needs_background": "light"
     },
     "output_type": "display_data"
    }
   ],
   "source": [
    "plot = sns.lineplot(x=linedf['year'], y=linedf['death_rate'], hue = linedf['race_ethnicity']).set(\n",
    "    title = 'Aggregate Gross Death Rates by Year and Race/Ethnicity'\n",
    ")\n",
    "plt.legend(bbox_to_anchor = (1,1))"
   ]
  },
  {
   "cell_type": "markdown",
   "id": "114d6d4c-cac1-450f-8814-c48db5ebeec3",
   "metadata": {},
   "source": [
    "The gross death rates are the highest for Non-Hispanic White and Non-Hispanic Black, and much lower for Hispanic and Asian and Pacific Islander populations. It seems strange to me at a glance that there would be such a disparity in death rates between different ethnic/racial groups, especially when there is not a major difference between genders. I do not have enough information to root out a cause."
   ]
  },
  {
   "cell_type": "markdown",
   "id": "ac425307-69ae-4dd1-a004-abdd5bfb9d70",
   "metadata": {},
   "source": [
    "# Further Analysis"
   ]
  },
  {
   "cell_type": "code",
   "execution_count": 107,
   "id": "b7854025-115a-41b8-aa52-0e1bc3fb251e",
   "metadata": {},
   "outputs": [
    {
     "data": {
      "text/plain": [
       "<matplotlib.legend.Legend at 0x1f5ead19190>"
      ]
     },
     "execution_count": 107,
     "metadata": {},
     "output_type": "execute_result"
    },
    {
     "data": {
      "image/png": "[encoded data removed]",
      "text/plain": [
       "<Figure size 432x288 with 1 Axes>"
      ]
     },
     "metadata": {
      "needs_background": "light"
     },
     "output_type": "display_data"
    }
   ],
   "source": [
    "plot = sns.violinplot(data=numdf, x='deaths', y='race_ethnicity', hue='sex', split=True, cut=0).set(\n",
    "    title = 'Deaths by sex and Race/Ethnicity'\n",
    ")\n",
    "plt.legend(bbox_to_anchor = (1,1))"
   ]
  },
  {
   "cell_type": "markdown",
   "id": "0b5191ad-90d3-4623-ad63-874750ff06b3",
   "metadata": {},
   "source": [
    "Each datapoint used to build this violin plot is a cause of death. This gives us a good picture of the distribution of the number of deaths to each cause of death. As we can see from the plot, it is most common for a cause of death to have a low number of deaths associated with it, with Non-Hispanic White having an outlier leading cause with nearly 7000 deaths in one year associated with it."
   ]
  },
  {
   "cell_type": "code",
   "execution_count": 136,
   "id": "3f958bb9-a0ab-495b-b75d-44b390fee32d",
   "metadata": {},
   "outputs": [
    {
     "data": {
      "image/png": "[encoded data removed]",
      "text/plain": [
       "<Figure size 404.625x360 with 1 Axes>"
      ]
     },
     "metadata": {
      "needs_background": "light"
     },
     "output_type": "display_data"
    }
   ],
   "source": [
    "plot = sns.lmplot(data=numdf, x='year', y='age_adjusted_death_rate', hue='sex', x_jitter=0.2).set(\n",
    "    title = 'Age Adjusted Death Rate by Sex'\n",
    ")"
   ]
  },
  {
   "cell_type": "code",
   "execution_count": 137,
   "id": "2604d8ed-7090-441b-a756-b16d0d4782df",
   "metadata": {},
   "outputs": [
    {
     "data": {
      "image/png": "[encoded data removed]",
      "text/plain": [
       "<Figure size 404.625x360 with 1 Axes>"
      ]
     },
     "metadata": {
      "needs_background": "light"
     },
     "output_type": "display_data"
    }
   ],
   "source": [
    "plot = sns.lmplot(data=numdf, x='year', y='death_rate', hue='sex', x_jitter=0.2).set(\n",
    "    title = 'Death Rate by Sex'\n",
    ")"
   ]
  },
  {
   "cell_type": "markdown",
   "id": "7418a7aa-6f7d-47b9-b5c3-c9c68b024df7",
   "metadata": {},
   "source": [
    "Running a linear regression on the death rate and age adjusted death rates by gender helps to highlight the the differences in accuracy that we previously mentioned. While the death rate has almost identical regressions, you can clearly see the higher male death rate that we had noticed earlier in the age adjusted death rates."
   ]
  },
  {
   "cell_type": "code",
   "execution_count": 142,
   "id": "5034e3b4-99e0-42ee-8167-91c1654c3c0f",
   "metadata": {},
   "outputs": [
    {
     "data": {
      "image/png": "[encoded data removed]",
      "text/plain": [
       "<Figure size 523.875x360 with 1 Axes>"
      ]
     },
     "metadata": {
      "needs_background": "light"
     },
     "output_type": "display_data"
    }
   ],
   "source": [
    "plot = sns.lmplot(data=numdf, x='deaths', y='age_adjusted_death_rate', hue='race_ethnicity').set(\n",
    "    title = 'Age Adjusted Death Rate by Deaths'\n",
    ")"
   ]
  },
  {
   "cell_type": "markdown",
   "id": "070f6342-c886-41b5-9327-3bbd6f14a728",
   "metadata": {},
   "source": [
    "This figure helps to highlight which races/ethnicities have higher or lower populations. The steeper the regression for the ethnic or racial group, the lower the population. This is because each death represents a larger portion of the population and therefore a larger increase in the death rate."
   ]
  },
  {
   "cell_type": "markdown",
   "id": "2835e40e-138f-4124-9a3e-c07523a84790",
   "metadata": {},
   "source": [
    "# Summary\n",
    "\n",
    "After analysing the New York City mortality data, I have been able to draw some conclusions. The most significant piece of information that I have noticed is the significant gap in gross death rates between the main racial and ethnic groups in New York City. I would need more information to investigate this further, but currently I suspect this to be the result of either reporting errors or differnces between the differnt groups, a result of the age distributions being different between the groups (which would be fixed by calculating an age adjusted death rate), or an actual difference in death rates, which would only raise further questions. The small but consitent differnces in death rates by gender was also interesting. I was fascinated by the amount of information that I was able to extract from this dataset, particularly that I was able to calculate approximate population and gross death rates for various subsets of the data. "
   ]
  }
 ],
 "metadata": {
  "kernelspec": {
   "display_name": "Python 3 (ipykernel)",
   "language": "python",
   "name": "python3"
  },
  "language_info": {
   "codemirror_mode": {
    "name": "ipython",
    "version": 3
   },
   "file_extension": ".py",
   "mimetype": "text/x-python",
   "name": "python",
   "nbconvert_exporter": "python",
   "pygments_lexer": "ipython3",
   "version": "3.9.12"
  }
 },
 "nbformat": 4,
 "nbformat_minor": 5
}
